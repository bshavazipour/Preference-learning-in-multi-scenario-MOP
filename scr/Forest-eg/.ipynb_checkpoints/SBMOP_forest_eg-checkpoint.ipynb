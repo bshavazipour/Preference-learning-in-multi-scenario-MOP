{
 "cells": [
  {
   "cell_type": "code",
   "execution_count": 29,
   "metadata": {},
   "outputs": [],
   "source": [
    "import numpy as np\n",
    "import pandas as pd\n",
    "import matplotlib.pyplot as plt\n",
    "import xlrd\n",
    "import csv\n",
    "import seaborn as sns\n",
    "import time\n",
    "from scipy.optimize import minimize\n",
    "import prefEstimation_module as pr\n",
    "import knaps_gurobi as my_knaps\n",
    "import forest_scn_module as fsc"
   ]
  },
  {
   "cell_type": "code",
   "execution_count": 73,
   "metadata": {},
   "outputs": [],
   "source": [
    "# Initialize the constants\n",
    "k = 4 # #of objectives\n",
    "s = 12 # #of scenarios\n",
    "m = s*k # # of meta-objectives\n",
    "q = 4  # # of scenarios for which the DM's preferences are available\n",
    "\n",
    "# Currently we use an  Excel file to show the ideal and nadir values to the DM and ask for the preferences\n",
    "# Then, in the following we read the preferences and the ideal and nadir values from that Excel file \n",
    "# Read ideal and nadir values, and the DM's preferences for all objectives in q scenarios\n",
    "pref, ideal, nadir, prefi = pr.forest_prefs(k,s,m,q)\n",
    "\n",
    "# Calculate preference candidates for remaining s-q scenarios (go)         \n",
    "go, Q, sq = pr.goo(pref, ideal, nadir, s, k)"
   ]
  },
  {
   "cell_type": "code",
   "execution_count": 12,
   "metadata": {},
   "outputs": [],
   "source": [
    "# Definning objective function and constraints \n",
    "        \n",
    "# Objective function\n",
    "def objective(X):\n",
    "    \"\"\"\n",
    "    Objective function for an equivalent linear optimization problem to model (3) in the paper\n",
    "\n",
    "    Parameters\n",
    "    ----------\n",
    "    X : numpy.ndarray\n",
    "        Decision variables\n",
    "    k : int\n",
    "        Number of objective functions in the original problem.\n",
    "    q : int\n",
    "        Number of scenarios for which DM's preferences are available. \n",
    "\n",
    "    Returns\n",
    "    -------\n",
    "    TYPE\n",
    "        Objective value.\n",
    "\n",
    "    \"\"\"\n",
    "    \n",
    "    #Decision variables\n",
    "    #for i in range(1,len(X)+1): # len(X)+1 = k+q+k*q+1\n",
    "    #    exec(f'X{i} = X[i-1]')\n",
    "    \n",
    "    return sum(X[k+q:k+q+2*k*q])\n",
    "\n",
    "\n",
    "\n",
    "\n",
    "# Constraints\n",
    "\"\"\"Generilizing\n",
    "for i in range(k):\n",
    "    for r in range(q):\n",
    "        def exec(f'constraint{ir}')(X): # i=1, r=1\n",
    "            # g_i^o - (phi_{ir}^+) + (phi_{ir}^-) - gamma_i^{o(r)}\n",
    "            return X[i]+X[k+q+i*r]-gamma[r,i] # in gamma r=0,3,8,11\n",
    "\"\"\"\n",
    "\n",
    "# Linearization constraints\n",
    "def constraint11(X): # i=1(0), r=1(0)\n",
    "    # g_i^o - phi_{ir}^+ + phi_{ir}^- - g_i^{o(r)}\n",
    "    return X[0]-X[k+q]+X[k+q+1]-go['g%s' % o][0,0]\n",
    "\n",
    "def constraint21(X): # i=2(1), r=1(0)\n",
    "    # g_i^o + phi_{ir} - gamma_i^{o(r)}\n",
    "    return X[1]-X[k+q+2]+X[k+q+3]-go['g%s' % o][0,1]  \n",
    "\n",
    "def constraint31(X): # i=3(2), r=1(0)\n",
    "    # g_i^o + phi_{ir} - gamma_i^{o(r)}\n",
    "    return X[2]-X[k+q+4]+X[k+q+5]-go['g%s' % o][0,2]  \n",
    "\n",
    "def constraint41(X): # i=4(3), r=1(0)\n",
    "    # g_i^o + phi_{ir} - gamma_i^{o(r)}\n",
    "    return X[3]-X[k+q+6]+X[k+q+7]-go['g%s' % o][0,3]\n",
    "\n",
    "\n",
    "def constraint12(X): # i=1(0), r=2(1)\n",
    "    # g_i^o + phi_{ir} - gamma_i^{o(r)}\n",
    "    return X[0]-X[k+q+8]+X[k+q+9]-go['g%s' % o][1,0]        \n",
    "        \n",
    "def constraint22(X): # i=2(1), r=2(1)\n",
    "    # g_i^o + phi_{ir} - gamma_i^{o(r)}\n",
    "    return X[1]-X[k+q+10]+X[k+q+11]-go['g%s' % o][1,1]\n",
    "\n",
    "def constraint32(X): # i=3(2), r=2(1)\n",
    "    # g_i^o + phi_{ir} - gamma_i^{o(r)}\n",
    "    return X[2]-X[k+q+12]+X[k+q+13]-go['g%s' % o][1,2]\n",
    "\n",
    "def constraint42(X): # i=4(3), r=2(1)\n",
    "    # g_i^o + phi_{ir} - gamma_i^{o(r)}\n",
    "    return X[3]-X[k+q+14]+X[k+q+15]-go['g%s' % o][1,3]\n",
    "\n",
    "\n",
    "def constraint13(X): # i=1(0), r=3(2)\n",
    "    # g_i^o + phi_{ir} - gamma_i^{o(r)}\n",
    "    return X[0]-X[k+q+16]+X[k+q+17]-go['g%s' % o][2,0]        \n",
    "\n",
    "def constraint23(X): # i=2(1), r=3(2)\n",
    "    # g_i^o + phi_{ir} - gamma_i^{o(r)}\n",
    "    return X[1]-X[k+q+18]+X[k+q+19]-go['g%s' % o][2,1]\n",
    "\n",
    "def constraint33(X): # i=3(2), r=3(2)\n",
    "    # g_i^o + phi_{ir} - gamma_i^{o(r)}\n",
    "    return X[2]-X[k+q+20]+X[k+q+21]-go['g%s' % o][2,2]\n",
    "\n",
    "def constraint43(X): # i=4(3), r=3(2)\n",
    "    # g_i^o + phi_{ir} - gamma_i^{o(r)}\n",
    "    return X[3]-X[k+q+22]+X[k+q+23]-go['g%s' % o][2,3]\n",
    "\n",
    "\n",
    "def constraint14(X): # i=1(0), r=4(3)\n",
    "    # g_i^o + phi_{ir} - gamma_i^{o(r)}\n",
    "    return X[0]-X[k+q+24]+X[k+q+25]-go['g%s' % o][3,0]\n",
    "\n",
    "def constraint24(X): # i=2(1), r=4(3)\n",
    "    # g_i^o + phi_{ir} - gamma_i^{o(r)}\n",
    "    return X[1]-X[k+q+26]+X[k+q+27]-go['g%s' % o][3,1]\n",
    "\n",
    "def constraint34(X): # i=3(2), r=4(3)\n",
    "    # g_i^o + phi_{ir} - gamma_i^{o(r)}\n",
    "    return X[2]-X[k+q+28]+X[k+q+29]-go['g%s' % o][3,2]\n",
    "\n",
    "def constraint44(X): # i=4(3), r=4(3)\n",
    "    # g_i^o + phi_{ir} - gamma_i^{o(r)}\n",
    "    return X[3]-X[k+q+30]+X[k+q+31]-go['g%s' % o][3,3]\n",
    "   \n",
    "\n",
    "#-------------------------------------------\n",
    "con11 ={'type':'eq', 'fun':constraint11}\n",
    "con21 ={'type':'eq', 'fun':constraint21}\n",
    "con31 ={'type':'eq', 'fun':constraint31}\n",
    "con41 ={'type':'eq', 'fun':constraint41}\n",
    "con12 ={'type':'eq', 'fun':constraint12}\n",
    "con22 ={'type':'eq', 'fun':constraint22}\n",
    "con32 ={'type':'eq', 'fun':constraint32}\n",
    "con42 ={'type':'eq', 'fun':constraint42}\n",
    "con13 ={'type':'eq', 'fun':constraint13}\n",
    "con23 ={'type':'eq', 'fun':constraint23}\n",
    "con33 ={'type':'eq', 'fun':constraint33}\n",
    "con43 ={'type':'eq', 'fun':constraint43}\n",
    "con14 ={'type':'eq', 'fun':constraint14}\n",
    "con24 ={'type':'eq', 'fun':constraint24}\n",
    "con34 ={'type':'eq', 'fun':constraint34}\n",
    "con44 ={'type':'eq', 'fun':constraint44}\n",
    "\n",
    "\n",
    "\n",
    "\n",
    "# Feasible space constraints\n",
    "def constraint1(X):\n",
    "    # g_i^2 - sum_{r=1}^4(lambda_r * gamma_i^{o(r)}) phi_{ir} - gamma_i^{o(r)} >= 0\n",
    "    return X[0] - (X[4]*go['g%s' % o][0,0] + X[5]*go['g%s' % o][1,0] + X[6]*go['g%s' % o][2,0] + X[7]*go['g%s' % o][3,0])\n",
    "\n",
    "def constraint2(X):\n",
    "    # g_i^2 - sum_{r=1}^4(lambda_r * gamma_i^{o(r)}) phi_{ir} - gamma_i^{o(r)} >= 0\n",
    "    return X[1] - (X[4]*go['g%s' % o][0,1] + X[5]*go['g%s' % o][1,1] + X[6]*go['g%s' % o][2,1] + X[7]*go['g%s' % o][3,1])\n",
    "\n",
    "def constraint3(X):\n",
    "    # g_i^2 - sum_{r=1}^4(lambda_r * gamma_i^{o(r)}) phi_{ir} - gamma_i^{o(r)} >= 0\n",
    "    return X[2] - (X[4]*go['g%s' % o][0,2] + X[5]*go['g%s' % o][1,2] + X[6]*go['g%s' % o][2,2] + X[7]*go['g%s' % o][3,2])\n",
    "\n",
    "def constraint4(X):\n",
    "    # g_i^2 - sum_{r=1}^4(lambda_r * gamma_i^{o(r)}) phi_{ir} - gamma_i^{o(r)} >= 0\n",
    "    return X[3] - (X[4]*go['g%s' % o][0,3] + X[5]*go['g%s' % o][1,3] + X[6]*go['g%s' % o][2,3] + X[7]*go['g%s' % o][3,3])\n",
    "\n",
    "# Convex constraints\n",
    "def constraint5(X):\n",
    "    # sum_{r=1}^4(lambda_r) - 1 = 0\n",
    "    return sum(X[k:k+q]) - 1 \n",
    "\n",
    "\n",
    "con1 ={'type':'ineq', 'fun':constraint1}\n",
    "con2 ={'type':'ineq', 'fun':constraint2}\n",
    "con3 ={'type':'ineq', 'fun':constraint3}\n",
    "con4 ={'type':'ineq', 'fun':constraint4}\n",
    "\n",
    "con5 ={'type':'eq', 'fun':constraint5}\n",
    "\n",
    "\n",
    "Cons = [con1, con2, con3, con4, con5, \n",
    "        con11, con21, con31, con41,\n",
    "        con12, con22, con32, con42,\n",
    "        con13, con23, con33, con43,\n",
    "        con14, con24, con34, con44,\n",
    "        ]\n"
   ]
  },
  {
   "cell_type": "code",
   "execution_count": 14,
   "metadata": {
    "scrolled": true
   },
   "outputs": [
    {
     "name": "stdout",
     "output_type": "stream",
     "text": [
      "o = 1\n"
     ]
    },
    {
     "name": "stderr",
     "output_type": "stream",
     "text": [
      "C:\\devel\\anaconda3\\lib\\site-packages\\scipy\\optimize\\_hessian_update_strategy.py:187: UserWarning: delta_grad == 0.0. Check if the approximated function is linear. If the function is linear better results can be obtained by defining the Hessian as zero instead of using quasi-Newton approximations.\n",
      "  'approximations.', UserWarning)\n"
     ]
    },
    {
     "name": "stdout",
     "output_type": "stream",
     "text": [
      "`xtol` termination condition is satisfied.\n",
      "Number of iterations: 460, function evaluations: 21320, CG iterations: 2361, optimality: 4.01e-01, constraint violation: 0.00e+00, execution time:  9.7 s.\n",
      "`xtol` termination condition is satisfied.\n",
      "iterations 460\n",
      "NFE 21320\n",
      "o = 2\n",
      "`xtol` termination condition is satisfied.\n",
      "Number of iterations: 812, function evaluations: 40303, CG iterations: 2768, optimality: 4.00e-01, constraint violation: 0.00e+00, execution time: 1.9e+01 s.\n",
      "`xtol` termination condition is satisfied.\n",
      "iterations 812\n",
      "NFE 40303\n",
      "o = 4\n",
      "`xtol` termination condition is satisfied.\n",
      "Number of iterations: 514, function evaluations: 23247, CG iterations: 3318, optimality: 5.75e-01, constraint violation: 2.98e-08, execution time: 1.2e+01 s.\n",
      "`xtol` termination condition is satisfied.\n",
      "iterations 514\n",
      "NFE 23247\n",
      "o = 5\n",
      "`xtol` termination condition is satisfied.\n",
      "Number of iterations: 627, function evaluations: 33415, CG iterations: 2903, optimality: 1.16e-03, constraint violation: 2.91e-11, execution time: 1.7e+01 s.\n",
      "`xtol` termination condition is satisfied.\n",
      "iterations 627\n",
      "NFE 33415\n",
      "o = 6\n",
      "`xtol` termination condition is satisfied.\n",
      "Number of iterations: 166, function evaluations: 4018, CG iterations: 576, optimality: 6.24e-01, constraint violation: 5.96e-08, execution time:  2.1 s.\n",
      "`xtol` termination condition is satisfied.\n",
      "iterations 166\n",
      "NFE 4018\n",
      "o = 7\n",
      "`gtol` termination condition is satisfied.\n",
      "Number of iterations: 814, function evaluations: 42804, CG iterations: 3985, optimality: 2.97e-09, constraint violation: 9.31e-10, execution time: 2.2e+01 s.\n",
      "`gtol` termination condition is satisfied.\n",
      "iterations 814\n",
      "NFE 42804\n",
      "o = 9\n",
      "`xtol` termination condition is satisfied.\n",
      "Number of iterations: 1511, function evaluations: 68716, CG iterations: 7709, optimality: 1.47e-05, constraint violation: 9.31e-10, execution time: 3.8e+01 s.\n",
      "`xtol` termination condition is satisfied.\n",
      "iterations 1511\n",
      "NFE 68716\n",
      "o = 10\n",
      "`xtol` termination condition is satisfied.\n",
      "Number of iterations: 556, function evaluations: 31980, CG iterations: 3253, optimality: 1.01e-05, constraint violation: 3.64e-12, execution time: 2e+01 s.\n",
      "`xtol` termination condition is satisfied.\n",
      "iterations 556\n",
      "NFE 31980\n",
      "--- 139.4429476261139 seconds ---\n"
     ]
    }
   ],
   "source": [
    "\"\"\"\n",
    "2. Solving an optimization problem to find the prefered candidate for preferences; i.e., Estimate candidates for the DM’s preferences\n",
    "   \n",
    "      A) Moderate/Realistic choice\n",
    "\"\"\"\n",
    "# Bounds\n",
    "b = (0,10**10)\n",
    "bnds = [(0,10**10),(0,10**10),(0,10**10),(0,10**10),\n",
    "        (0,1),(0,1),(0,1),(0,1)\n",
    "       ]\n",
    "for i in range(2*k*q):\n",
    "    bnds.append(b)\n",
    "\n",
    "\n",
    "start_time = time.time()\n",
    "Lambda = np.zeros((s,k))\n",
    "\n",
    "for o in sq: \n",
    "    print('o =',o)\n",
    "    \n",
    "    # Initial feasible solution\n",
    "    x0 = np.array([max(go['g%s' % o][:,0]), max(go['g%s' % o][:,1]), max(go['g%s' % o][:,2]), max(go['g%s' % o][:,3]),\n",
    "               0.25, 0.25, 0.25, 0.25,\n",
    "               max(go['g%s' % o][:,0])-go['g%s' % o][0,0], 0, max(go['g%s' % o][:,1])-go['g%s' % o][0,1], 0, max(go['g%s' % o][:,2])-go['g%s' % o][0,2], 0, max(go['g%s' % o][:,3])-go['g%s' % o][0,3], 0,\n",
    "               \n",
    "               max(go['g%s' % o][:,0])-go['g%s' % o][1,0], 0, max(go['g%s' % o][:,1])-go['g%s' % o][1,1], 0, max(go['g%s' % o][:,2])-go['g%s' % o][1,2], 0, max(go['g%s' % o][:,3])-go['g%s' % o][1,3], 0,\n",
    "               \n",
    "               max(go['g%s' % o][:,0])-go['g%s' % o][2,0], 0, max(go['g%s' % o][:,1])-go['g%s' % o][2,1], 0, max(go['g%s' % o][:,2])-go['g%s' % o][2,2], 0, max(go['g%s' % o][:,3])-go['g%s' % o][2,3], 0,\n",
    "               \n",
    "               max(go['g%s' % o][:,0])-go['g%s' % o][3,0], 0, max(go['g%s' % o][:,1])-go['g%s' % o][3,1], 0, max(go['g%s' % o][:,2])-go['g%s' % o][3,2], 0, max(go['g%s' % o][:,3])-go['g%s' % o][3,3], 0\n",
    "               \n",
    "               ]) #zeros((k+q+2*k*q,))\n",
    "   \n",
    "    solution = minimize(objective,\n",
    "                  x0, \n",
    "                  method = 'trust-constr',\n",
    "                  bounds = bnds,\n",
    "                  constraints = Cons,\n",
    "                  options={'gtol': 1e-6, 'maxiter': 10000, 'disp': True}\n",
    "                  )\n",
    "    print(solution.message)\n",
    "    print('iterations', solution.nit)\n",
    "    print('NFE', solution.nfev)\n",
    "\n",
    "    # Decision variables (solutions)\n",
    "    pref[o] = solution.x[0:k]\n",
    "    Lambda[o] = solution.x[k:k+q]\n",
    "    #goals[j] = g\n",
    "    #nfe.append(sol.nfev)\n",
    "\n",
    "print(\"--- %s seconds ---\" % (time.time() - start_time))   \n",
    "#print('nfe =', np.sum(nfe))"
   ]
  },
  {
   "cell_type": "code",
   "execution_count": 19,
   "metadata": {},
   "outputs": [
    {
     "name": "stdout",
     "output_type": "stream",
     "text": [
      "Complete preference matrix (including both actual and artificial preferences): \n"
     ]
    },
    {
     "data": {
      "text/html": [
       "<div>\n",
       "<style scoped>\n",
       "    .dataframe tbody tr th:only-of-type {\n",
       "        vertical-align: middle;\n",
       "    }\n",
       "\n",
       "    .dataframe tbody tr th {\n",
       "        vertical-align: top;\n",
       "    }\n",
       "\n",
       "    .dataframe thead th {\n",
       "        text-align: right;\n",
       "    }\n",
       "</style>\n",
       "<table border=\"1\" class=\"dataframe\">\n",
       "  <thead>\n",
       "    <tr style=\"text-align: right;\">\n",
       "      <th></th>\n",
       "      <th>Rev</th>\n",
       "      <th>HA</th>\n",
       "      <th>Carb</th>\n",
       "      <th>DW</th>\n",
       "      <th>Scenario</th>\n",
       "    </tr>\n",
       "  </thead>\n",
       "  <tbody>\n",
       "    <tr>\n",
       "      <th>0</th>\n",
       "      <td>2.000000e+08</td>\n",
       "      <td>17000.000000</td>\n",
       "      <td>3.500000e+06</td>\n",
       "      <td>120000.000000</td>\n",
       "      <td>0</td>\n",
       "    </tr>\n",
       "    <tr>\n",
       "      <th>1</th>\n",
       "      <td>2.714523e+08</td>\n",
       "      <td>19000.000000</td>\n",
       "      <td>4.000004e+06</td>\n",
       "      <td>147856.647372</td>\n",
       "      <td>1</td>\n",
       "    </tr>\n",
       "    <tr>\n",
       "      <th>2</th>\n",
       "      <td>2.804452e+08</td>\n",
       "      <td>17033.184796</td>\n",
       "      <td>4.000000e+06</td>\n",
       "      <td>133372.417734</td>\n",
       "      <td>2</td>\n",
       "    </tr>\n",
       "    <tr>\n",
       "      <th>3</th>\n",
       "      <td>3.000000e+08</td>\n",
       "      <td>19000.000000</td>\n",
       "      <td>4.000000e+06</td>\n",
       "      <td>150000.000000</td>\n",
       "      <td>3</td>\n",
       "    </tr>\n",
       "    <tr>\n",
       "      <th>4</th>\n",
       "      <td>2.706784e+08</td>\n",
       "      <td>19001.363044</td>\n",
       "      <td>4.598157e+06</td>\n",
       "      <td>188947.267875</td>\n",
       "      <td>4</td>\n",
       "    </tr>\n",
       "    <tr>\n",
       "      <th>5</th>\n",
       "      <td>2.905856e+08</td>\n",
       "      <td>17005.539732</td>\n",
       "      <td>4.369429e+06</td>\n",
       "      <td>166555.912413</td>\n",
       "      <td>5</td>\n",
       "    </tr>\n",
       "    <tr>\n",
       "      <th>6</th>\n",
       "      <td>2.950614e+08</td>\n",
       "      <td>19000.740311</td>\n",
       "      <td>4.598228e+06</td>\n",
       "      <td>188946.710278</td>\n",
       "      <td>6</td>\n",
       "    </tr>\n",
       "    <tr>\n",
       "      <th>7</th>\n",
       "      <td>3.130334e+08</td>\n",
       "      <td>17005.539730</td>\n",
       "      <td>4.369429e+06</td>\n",
       "      <td>166746.804264</td>\n",
       "      <td>7</td>\n",
       "    </tr>\n",
       "    <tr>\n",
       "      <th>8</th>\n",
       "      <td>1.500000e+08</td>\n",
       "      <td>17000.000000</td>\n",
       "      <td>4.500000e+06</td>\n",
       "      <td>170000.000000</td>\n",
       "      <td>8</td>\n",
       "    </tr>\n",
       "    <tr>\n",
       "      <th>9</th>\n",
       "      <td>2.718131e+08</td>\n",
       "      <td>17000.000000</td>\n",
       "      <td>4.733174e+06</td>\n",
       "      <td>199999.999993</td>\n",
       "      <td>9</td>\n",
       "    </tr>\n",
       "    <tr>\n",
       "      <th>10</th>\n",
       "      <td>3.120602e+08</td>\n",
       "      <td>19025.939333</td>\n",
       "      <td>4.736668e+06</td>\n",
       "      <td>227730.979719</td>\n",
       "      <td>10</td>\n",
       "    </tr>\n",
       "    <tr>\n",
       "      <th>11</th>\n",
       "      <td>2.000000e+08</td>\n",
       "      <td>17000.000000</td>\n",
       "      <td>5.000000e+06</td>\n",
       "      <td>200000.000000</td>\n",
       "      <td>11</td>\n",
       "    </tr>\n",
       "  </tbody>\n",
       "</table>\n",
       "</div>"
      ],
      "text/plain": [
       "             Rev            HA          Carb             DW  Scenario\n",
       "0   2.000000e+08  17000.000000  3.500000e+06  120000.000000         0\n",
       "1   2.714523e+08  19000.000000  4.000004e+06  147856.647372         1\n",
       "2   2.804452e+08  17033.184796  4.000000e+06  133372.417734         2\n",
       "3   3.000000e+08  19000.000000  4.000000e+06  150000.000000         3\n",
       "4   2.706784e+08  19001.363044  4.598157e+06  188947.267875         4\n",
       "5   2.905856e+08  17005.539732  4.369429e+06  166555.912413         5\n",
       "6   2.950614e+08  19000.740311  4.598228e+06  188946.710278         6\n",
       "7   3.130334e+08  17005.539730  4.369429e+06  166746.804264         7\n",
       "8   1.500000e+08  17000.000000  4.500000e+06  170000.000000         8\n",
       "9   2.718131e+08  17000.000000  4.733174e+06  199999.999993         9\n",
       "10  3.120602e+08  19025.939333  4.736668e+06  227730.979719        10\n",
       "11  2.000000e+08  17000.000000  5.000000e+06  200000.000000        11"
      ]
     },
     "execution_count": 19,
     "metadata": {},
     "output_type": "execute_result"
    }
   ],
   "source": [
    "with open('reference_points(moderate)20.4.2021.csv', 'w', newline='') as f:\n",
    "    objectives = ['Rev', 'HA', 'Carb', 'DW', 'Scenario']\n",
    "    thewriter = csv.DictWriter(f, fieldnames=objectives)\n",
    "    \n",
    "    thewriter.writeheader()\n",
    "    for i in range(s):\n",
    "        thewriter.writerow({'Rev' : pref[i,0], 'HA' : pref[i,1], 'Carb' : pref[i,2], 'DW' : pref[i,3], 'Scenario' : i\n",
    "                               })\n",
    "\n",
    "\n",
    "rfps = pd.read_csv('reference_points(moderate)20.4.2021.csv')\n",
    "print('Complete preference matrix (including both actual and artificial preferences, calculated by the moderate choice model): ')\n",
    "rfps"
   ]
  },
  {
   "cell_type": "code",
   "execution_count": null,
   "metadata": {},
   "outputs": [],
   "source": [
    "# P,Q,R,S 3-14 are resereved for Preferences in F1, f2,f3,f4 in scenario 1-12\n",
    "sheet = xw.Book(r'C:\\Users\\babshava\\SBMOP_forest\\sbmo\\Data\\Pareto_ranges.xlsx').sheets(\"Sheet1\")\n",
    "\n",
    "col = ['3','4','5','6','7','8','9','10','11','12','13','14']\n",
    "# Write simulated preferences in the above excel \n",
    "for p in range(s):\n",
    "    sheet.range(\"P\"+col[p]).value = np.array(rfps)[p,0] # Use rfps for Moderate choice and rfpsi for idealistic\n",
    "    sheet.range(\"Q\"+col[p]).value = np.array(rfps)[p,1]\n",
    "    sheet.range(\"R\"+col[p]).value = np.array(rfps)[p,2]\n",
    "    sheet.range(\"S\"+col[p]).value = np.array(rfps)[p,3]\n",
    "    \n",
    "# Add a bold format to use to highlight cells.\n",
    "# bold = workbook.add_format({'bold': True})\n",
    "# worksheet.write('P5', bold)"
   ]
  },
  {
   "cell_type": "code",
   "execution_count": 20,
   "metadata": {},
   "outputs": [],
   "source": [
    "\"\"\"\n",
    "B) Idealistic choice\n",
    "\"\"\"\n",
    "# Solving an optimization problem to find the prefered candidate for preferences\n",
    "\n",
    "# Objective function\n",
    "def objectivei(X):\n",
    "    #Decision variables\n",
    "    #for i in range(1,len(X)+1): # len(X)+1 = k+q+k*q+1\n",
    "    #    exec(f'X{i} = X[i-1]')\n",
    "    \n",
    "    return sum(X[k+q:k+q+2*k])\n",
    "\n",
    "# Constraints\n",
    "\n",
    "# Linearization constraints\n",
    "def constraint6(X): # i=1(0), \n",
    "    # g_i^o - phi_{ir}^+ + phi_{ir}^- - z_i^{o[ideal]} = 0\n",
    "    return X[0]-X[k+q]+X[k+q+1]-ideal[o,0]\n",
    "\n",
    "def constraint7(X): # i=2(1), \n",
    "    # g_i^o - phi_{ir}^+ + phi_{ir}^- - z_i^{o[ideal]}\n",
    "    return X[1]-X[k+q+2]+X[k+q+3]-ideal[o,1]  \n",
    "\n",
    "def constraint8(X): # i=3(2), \n",
    "    # g_i^o - phi_{ir}^+ + phi_{ir}^- - z_i^{o[ideal]}\n",
    "    return X[2]-X[k+q+4]+X[k+q+5]-ideal[o,2]  \n",
    "\n",
    "def constraint9(X): # i=4(3), \n",
    "    # g_i^o - phi_{ir}^+ + phi_{ir}^- - z_i^{o[ideal]}\n",
    "    return X[3]-X[k+q+6]+X[k+q+7]-ideal[o,3]\n",
    "\n",
    "con6 ={'type':'eq', 'fun':constraint6}\n",
    "con7 ={'type':'eq', 'fun':constraint7}\n",
    "con8 ={'type':'eq', 'fun':constraint8}\n",
    "con9 ={'type':'eq', 'fun':constraint9}\n",
    "\n",
    "\n",
    "Consi = [con1, con2, con3, con4, con5, \n",
    "        con6, con7, con8, con9,\n",
    "        ]\n"
   ]
  },
  {
   "cell_type": "code",
   "execution_count": 21,
   "metadata": {
    "scrolled": true
   },
   "outputs": [
    {
     "name": "stdout",
     "output_type": "stream",
     "text": [
      "o = 1\n",
      "`gtol` termination condition is satisfied.\n",
      "Number of iterations: 13, function evaluations: 153, CG iterations: 9, optimality: 8.37e-07, constraint violation: 0.00e+00, execution time: 0.075 s.\n",
      "`gtol` termination condition is satisfied.\n",
      "iterations 13\n",
      "NFE 153\n",
      "o = 2\n",
      "`gtol` termination condition is satisfied.\n",
      "Number of iterations: 13, function evaluations: 153, CG iterations: 12, optimality: 9.95e-07, constraint violation: 9.31e-10, execution time: 0.052 s.\n",
      "`gtol` termination condition is satisfied.\n",
      "iterations 13\n",
      "NFE 153\n",
      "o = 4\n",
      "`gtol` termination condition is satisfied.\n",
      "Number of iterations: 13, function evaluations: 153, CG iterations: 9, optimality: 8.37e-07, constraint violation: 9.31e-10, execution time: 0.052 s.\n",
      "`gtol` termination condition is satisfied.\n",
      "iterations 13\n",
      "NFE 153\n",
      "o = 5\n",
      "`gtol` termination condition is satisfied.\n",
      "Number of iterations: 13, function evaluations: 153, CG iterations: 12, optimality: 9.95e-07, constraint violation: 3.64e-12, execution time: 0.072 s.\n",
      "`gtol` termination condition is satisfied.\n",
      "iterations 13\n",
      "NFE 153\n",
      "o = 6\n",
      "`gtol` termination condition is satisfied.\n",
      "Number of iterations: 13, function evaluations: 153, CG iterations: 9, optimality: 8.37e-07, constraint violation: 1.11e-16, execution time: 0.05 s.\n",
      "`gtol` termination condition is satisfied.\n",
      "iterations 13\n",
      "NFE 153\n",
      "o = 7\n",
      "`gtol` termination condition is satisfied.\n",
      "Number of iterations: 13, function evaluations: 153, CG iterations: 9, optimality: 8.37e-07, constraint violation: 5.82e-11, execution time: 0.067 s.\n",
      "`gtol` termination condition is satisfied.\n",
      "iterations 13\n",
      "NFE 153\n",
      "o = 9\n",
      "`gtol` termination condition is satisfied.\n",
      "Number of iterations: 13, function evaluations: 153, CG iterations: 12, optimality: 9.95e-07, constraint violation: 0.00e+00, execution time: 0.078 s.\n",
      "`gtol` termination condition is satisfied.\n",
      "iterations 13\n",
      "NFE 153\n",
      "o = 10\n",
      "`gtol` termination condition is satisfied.\n",
      "Number of iterations: 13, function evaluations: 153, CG iterations: 12, optimality: 9.95e-07, constraint violation: 3.64e-12, execution time: 0.05 s.\n",
      "`gtol` termination condition is satisfied.\n",
      "iterations 13\n",
      "NFE 153\n",
      "--- 0.5681056976318359 seconds ---\n"
     ]
    }
   ],
   "source": [
    "# Bounds\n",
    "b = (0,10**10)\n",
    "bndsi = [(0,10**10),(0,10**10),(0,10**10),(0,10**10),\n",
    "        (0,1),(0,1),(0,1),(0,1)\n",
    "       ]\n",
    "for i in range(2*k):\n",
    "    bndsi.append(b)\n",
    "    \n",
    "    \n",
    "# Solving the model\n",
    "\n",
    "\n",
    "start_time = time.time()\n",
    "Lambdai = np.zeros((s,k))\n",
    "\n",
    "for o in sq: \n",
    "    print('o =',o)\n",
    "    \n",
    "    # Initial solution (g_1^O, g_2^O, g_3^O,g_4^O, lambda_1, lambda_2, lambda_3, lambda_4, \n",
    "    #                   phi_1^+, phi_2^+, phi_3^+, phi_4^+, phi_1^-, phi_2^-, phi_3^-, phi_4^-  )\n",
    "    x0 = np.array([ideal[o,0], ideal[o,1], ideal[o,2], ideal[o,3],\n",
    "                   .25, .25, .25, .25,\n",
    "                   0, 0, 0, 0, 0, 0, 0, 0\n",
    "                  ]) \n",
    "   \n",
    "    soli = minimize(objective,\n",
    "                  x0,\n",
    "                  method = 'trust-constr',\n",
    "                  bounds = bndsi,\n",
    "                  constraints = Consi,\n",
    "                  options={'gtol': 1e-6, 'maxiter': 10000, 'disp': True}\n",
    "                  )\n",
    "    print(soli.message)\n",
    "    print('iterations', soli.nit)\n",
    "    print('NFE', soli.nfev)\n",
    "\n",
    "    # Decision variables (solutions)\n",
    "    prefi[o] = soli.x[0:k]\n",
    "    Lambdai[o] = soli.x[k:k+q]\n",
    "    #goals[j] = g\n",
    "    #nfe.append(sol.nfev)\n",
    "\n",
    "print(\"--- %s seconds ---\" % (time.time() - start_time))   \n",
    "#print('nfe =', np.sum(nfe))"
   ]
  },
  {
   "cell_type": "code",
   "execution_count": 22,
   "metadata": {},
   "outputs": [
    {
     "name": "stdout",
     "output_type": "stream",
     "text": [
      "Complete preference matrix (including both actual and artificial preferences, calculated by the moderate idealist model): \n"
     ]
    },
    {
     "data": {
      "text/html": [
       "<div>\n",
       "<style scoped>\n",
       "    .dataframe tbody tr th:only-of-type {\n",
       "        vertical-align: middle;\n",
       "    }\n",
       "\n",
       "    .dataframe tbody tr th {\n",
       "        vertical-align: top;\n",
       "    }\n",
       "\n",
       "    .dataframe thead th {\n",
       "        text-align: right;\n",
       "    }\n",
       "</style>\n",
       "<table border=\"1\" class=\"dataframe\">\n",
       "  <thead>\n",
       "    <tr style=\"text-align: right;\">\n",
       "      <th></th>\n",
       "      <th>Rev</th>\n",
       "      <th>HA</th>\n",
       "      <th>Carb</th>\n",
       "      <th>DW</th>\n",
       "      <th>Scenario</th>\n",
       "    </tr>\n",
       "  </thead>\n",
       "  <tbody>\n",
       "    <tr>\n",
       "      <th>0</th>\n",
       "      <td>2.000000e+08</td>\n",
       "      <td>17000.000000</td>\n",
       "      <td>3.500000e+06</td>\n",
       "      <td>120000.000000</td>\n",
       "      <td>0</td>\n",
       "    </tr>\n",
       "    <tr>\n",
       "      <th>1</th>\n",
       "      <td>2.726771e+08</td>\n",
       "      <td>20225.257710</td>\n",
       "      <td>4.449001e+06</td>\n",
       "      <td>218153.215498</td>\n",
       "      <td>1</td>\n",
       "    </tr>\n",
       "    <tr>\n",
       "      <th>2</th>\n",
       "      <td>2.830465e+08</td>\n",
       "      <td>20225.257707</td>\n",
       "      <td>4.449001e+06</td>\n",
       "      <td>218153.215498</td>\n",
       "      <td>2</td>\n",
       "    </tr>\n",
       "    <tr>\n",
       "      <th>3</th>\n",
       "      <td>3.000000e+08</td>\n",
       "      <td>19000.000000</td>\n",
       "      <td>4.000000e+06</td>\n",
       "      <td>150000.000000</td>\n",
       "      <td>3</td>\n",
       "    </tr>\n",
       "    <tr>\n",
       "      <th>4</th>\n",
       "      <td>2.726884e+08</td>\n",
       "      <td>20244.693374</td>\n",
       "      <td>4.891634e+06</td>\n",
       "      <td>279942.643896</td>\n",
       "      <td>4</td>\n",
       "    </tr>\n",
       "    <tr>\n",
       "      <th>5</th>\n",
       "      <td>2.919437e+08</td>\n",
       "      <td>20244.693371</td>\n",
       "      <td>4.891634e+06</td>\n",
       "      <td>279942.643896</td>\n",
       "      <td>5</td>\n",
       "    </tr>\n",
       "    <tr>\n",
       "      <th>6</th>\n",
       "      <td>2.972581e+08</td>\n",
       "      <td>20244.693374</td>\n",
       "      <td>4.891634e+06</td>\n",
       "      <td>279942.643896</td>\n",
       "      <td>6</td>\n",
       "    </tr>\n",
       "    <tr>\n",
       "      <th>7</th>\n",
       "      <td>3.145764e+08</td>\n",
       "      <td>20244.693374</td>\n",
       "      <td>4.891634e+06</td>\n",
       "      <td>279942.643896</td>\n",
       "      <td>7</td>\n",
       "    </tr>\n",
       "    <tr>\n",
       "      <th>8</th>\n",
       "      <td>1.500000e+08</td>\n",
       "      <td>17000.000000</td>\n",
       "      <td>4.500000e+06</td>\n",
       "      <td>170000.000000</td>\n",
       "      <td>8</td>\n",
       "    </tr>\n",
       "    <tr>\n",
       "      <th>9</th>\n",
       "      <td>3.127598e+08</td>\n",
       "      <td>20288.032234</td>\n",
       "      <td>5.337689e+06</td>\n",
       "      <td>341394.859492</td>\n",
       "      <td>9</td>\n",
       "    </tr>\n",
       "    <tr>\n",
       "      <th>10</th>\n",
       "      <td>3.143834e+08</td>\n",
       "      <td>20288.032234</td>\n",
       "      <td>5.337689e+06</td>\n",
       "      <td>341394.859492</td>\n",
       "      <td>10</td>\n",
       "    </tr>\n",
       "    <tr>\n",
       "      <th>11</th>\n",
       "      <td>2.000000e+08</td>\n",
       "      <td>17000.000000</td>\n",
       "      <td>5.000000e+06</td>\n",
       "      <td>200000.000000</td>\n",
       "      <td>11</td>\n",
       "    </tr>\n",
       "  </tbody>\n",
       "</table>\n",
       "</div>"
      ],
      "text/plain": [
       "             Rev            HA          Carb             DW  Scenario\n",
       "0   2.000000e+08  17000.000000  3.500000e+06  120000.000000         0\n",
       "1   2.726771e+08  20225.257710  4.449001e+06  218153.215498         1\n",
       "2   2.830465e+08  20225.257707  4.449001e+06  218153.215498         2\n",
       "3   3.000000e+08  19000.000000  4.000000e+06  150000.000000         3\n",
       "4   2.726884e+08  20244.693374  4.891634e+06  279942.643896         4\n",
       "5   2.919437e+08  20244.693371  4.891634e+06  279942.643896         5\n",
       "6   2.972581e+08  20244.693374  4.891634e+06  279942.643896         6\n",
       "7   3.145764e+08  20244.693374  4.891634e+06  279942.643896         7\n",
       "8   1.500000e+08  17000.000000  4.500000e+06  170000.000000         8\n",
       "9   3.127598e+08  20288.032234  5.337689e+06  341394.859492         9\n",
       "10  3.143834e+08  20288.032234  5.337689e+06  341394.859492        10\n",
       "11  2.000000e+08  17000.000000  5.000000e+06  200000.000000        11"
      ]
     },
     "execution_count": 22,
     "metadata": {},
     "output_type": "execute_result"
    }
   ],
   "source": [
    "with open('reference_points(idealistic)20.4.2021.csv', 'w', newline='') as f:\n",
    "    objectives = ['Rev', 'HA', 'Carb', 'DW', 'Scenario']\n",
    "    thewriter = csv.DictWriter(f, fieldnames=objectives)\n",
    "    \n",
    "    thewriter.writeheader()\n",
    "    for i in range(s):\n",
    "        thewriter.writerow({'Rev' : prefi[i,0], 'HA' : prefi[i,1], 'Carb' : prefi[i,2], 'DW' : prefi[i,3], 'Scenario' : i\n",
    "                               })\n",
    "\n",
    "rfpsi = pd.read_csv('reference_points(idealistic)20.4.2021.csv')\n",
    "print('Complete preference matrix (including both actual and artificial preferences, calculated by the moderate idealist model): ')\n",
    "rfpsi"
   ]
  },
  {
   "cell_type": "markdown",
   "metadata": {},
   "source": [
    "## 3. Check/validate the preferences with the DM\n",
    "\n",
    "The DM can:\n",
    "\n",
    "        1) approve the current preference matrix \n",
    "\n",
    "        2) modify some specific aspiration levels before approval\n",
    "        \n",
    "        3) modify some specific aspiration levels and/or provide preferences for a few more scenarios \n",
    "           and ask to re-estimate the others  \n",
    "           \n",
    "        4) change their style (or compare both matrices)\n",
    "        \n",
    " We continue only if the DM is satisfied with the estimated preferences, otherwise we re-do the process.\n"
   ]
  },
  {
   "cell_type": "code",
   "execution_count": 91,
   "metadata": {},
   "outputs": [],
   "source": [
    "# 2) the DM can change any preferences (it can be done by directly modify the excel file or as follows)\n",
    "#rfps['Rev'][0] = 200000000\n",
    "#rfps"
   ]
  },
  {
   "cell_type": "code",
   "execution_count": 104,
   "metadata": {},
   "outputs": [],
   "source": [
    "# 3) the DM can change any actual preferences (it can be done by directly modify the excel file or as follows)\n",
    "#pref[0][0] = 200000000.0\n",
    "#pref\n",
    "# Or the DM can provide preferences for some more scenarios\n",
    "# In this case, we need to go back to the beginning and redo the estimation with the new preferences\n",
    "#pref[0] = np.array([300000000.0, 17000, 3500000, 120000])\n",
    "#pref[0]\n",
    "#pref"
   ]
  },
  {
   "cell_type": "markdown",
   "metadata": {},
   "source": [
    "## 4. Use the preferences to solve the problem"
   ]
  },
  {
   "cell_type": "code",
   "execution_count": 31,
   "metadata": {},
   "outputs": [
    {
     "name": "stdout",
     "output_type": "stream",
     "text": [
      "Using license file C:\\Users\\babshava\\gurobi.lic\n",
      "Academic license - for non-commercial use only\n",
      "Changed value of parameter NumericFocus to 3\n",
      "   Prev: 0  Min: 0  Max: 3  Default: 0\n",
      "--- 810.393883228302 seconds ---\n"
     ]
    }
   ],
   "source": [
    "# # Creating the combined problem\n",
    "# Needs Gurobi installed with an active license\n",
    "\n",
    "start_time = time.time()\n",
    "\n",
    "M = fsc.gur_probl()\n",
    "\n",
    "print(\"--- %s seconds ---\" % (time.time() - start_time))"
   ]
  },
  {
   "cell_type": "code",
   "execution_count": 63,
   "metadata": {
    "scrolled": true
   },
   "outputs": [
    {
     "name": "stdout",
     "output_type": "stream",
     "text": [
      "Gurobi Optimizer version 9.0.2 build v9.0.2rc0 (win64)\n",
      "Optimize a model with 29762 rows, 161330 columns and 7722613 nonzeros\n",
      "Model fingerprint: 0x7d2422a8\n",
      "Variable types: 49 continuous, 161281 integer (161281 binary)\n",
      "Coefficient statistics:\n",
      "  Matrix range     [4e-09, 2e+05]\n",
      "  Objective range  [4e-13, 1e+00]\n",
      "  Bounds range     [1e+00, 1e+00]\n",
      "  RHS range        [6e-01, 2e+00]\n",
      "Warning: Model contains large matrix coefficient range\n",
      "\n",
      "MIP start from previous solve produced solution with objective -1.52448 (0.82s)\n",
      "Loaded MIP start from previous solve with objective -1.52448\n",
      "\n",
      "Presolve removed 62 rows and 9046 columns (presolve time = 5s) ...\n",
      "Presolve removed 98 rows and 9064 columns (presolve time = 11s) ...\n",
      "Presolve removed 56 rows and 9020 columns\n",
      "Presolve time: 12.29s\n",
      "Presolved: 29706 rows, 152310 columns, 3694337 nonzeros\n",
      "Variable types: 29 continuous, 152281 integer (152235 binary)\n",
      "\n",
      "Deterministic concurrent LP optimizer: primal simplex, dual simplex, and barrier\n",
      "Showing barrier log only...\n",
      "\n",
      "Root barrier log...\n",
      "\n",
      "Ordering time: 0.00s\n",
      "\n",
      "Barrier statistics:\n",
      " Free vars  : 12\n",
      " AA' NZ     : 5.626e+05\n",
      " Factor NZ  : 6.003e+05 (roughly 80 MBytes of memory)\n",
      " Factor Ops : 1.228e+07 (less than 1 second per iteration)\n",
      " Threads    : 2\n",
      "\n",
      "                  Objective                Residual\n",
      "Iter       Primal          Dual         Primal    Dual     Compl     Time\n",
      "   0   2.96815273e+04 -1.01993945e+08  7.29e+06 3.52e-10  3.72e+06    16s\n",
      "   1   2.75905364e+04  7.55581769e+06  6.78e+06 4.24e+02  3.46e+06    17s\n",
      "   2   1.32887263e+04 -3.95281898e+07  3.27e+06 3.88e+02  1.68e+06    18s\n",
      "   3   3.01898169e+03 -1.01031191e+09  7.43e+05 1.49e+02  3.99e+05    19s\n",
      "   4   8.27567903e+02 -1.09029641e+09  2.04e+05 5.40e+01  1.12e+05    20s\n",
      "   5   3.14824923e+02 -1.02494596e+09  7.81e+04 9.08e+00  4.27e+04    20s\n",
      "   6   6.69414686e+01 -9.66341643e+08  1.67e+04 5.60e+00  1.14e+04    21s\n",
      "   7   7.16519456e+00 -5.52305750e+08  1.99e+03 1.14e+00  2.50e+03    21s\n",
      "   8  -9.48715947e-02 -1.35585418e+08  1.97e+02 2.23e-01  4.78e+02    22s\n",
      "\n",
      "Barrier performed 8 iterations in 21.56 seconds\n",
      "Barrier solve interrupted - model solved by another algorithm\n",
      "\n",
      "Concurrent spin time: 4.31s (can be avoided by choosing Method=3)\n",
      "\n",
      "Solved with primal simplex\n",
      "\n",
      "Root relaxation: cutoff, 7750 iterations, 9.66 seconds\n",
      "\n",
      "    Nodes    |    Current Node    |     Objective Bounds      |     Work\n",
      " Expl Unexpl |  Obj  Depth IntInf | Incumbent    BestBd   Gap | It/Node Time\n",
      "\n",
      "     0     0     cutoff    0        -1.52448   -1.52448  0.00%     -   23s\n",
      "\n",
      "Explored 0 nodes (7750 simplex iterations) in 23.77 seconds\n",
      "Thread count was 8 (of 8 available processors)\n",
      "\n",
      "Solution count 1: -1.52448 \n",
      "No other solutions better than -1.52448\n",
      "\n",
      "Optimal solution found (tolerance 1.00e-04)\n",
      "Best objective -1.524481144661e+00, best bound -1.524481144661e+00, gap 0.0000%\n",
      "{'4,Rev': 233301107.87059432, '5,DW': 177970.2502180409, '2,Rev': 249020461.01906237, '7,Rev': 287789170.8843141, '9,DW': 212921.79749266832, '5,Carb': 3193552.2947187587, '6,Rev': 261411197.89525703, '9,HA': 12214.488091816631, '10,HA': 12214.488091816631, '3,Rev': 275398434.00811774, '4,Carb': 3193552.2947187587, '6,HA': 12333.088336678396, '11,Rev': 300164245.1746755, '3,DW': 143057.6130658457, '8,Rev': 245676182.16095918, '11,HA': 12214.488091816631, '11,Carb': 3391180.306684405, '1,Rev': 247288343.9834543, '7,Carb': 3193552.2947187587, '2,DW': 143057.6130658457, '8,DW': 212921.79749266832, '9,Carb': 3391180.306684405, '5,HA': 12333.088336678396, '6,Carb': 3193552.2947187587, '8,HA': 12214.488091816631, '0,Carb': 2995992.8523079962, '3,HA': 12468.167534983124, '5,Rev': 259679080.85964835, '1,Carb': 2995992.8523079962, '2,Carb': 2995992.8523079962, '3,Carb': 2995992.8523079962, '11,DW': 212921.79749266832, '0,HA': 12468.167534983124, '0,Rev': 220910370.99440008, '10,Rev': 273786272.18562055, '8,Carb': 3391180.306684405, '10,DW': 212921.79749266832, '6,DW': 177970.2502180409, '9,Rev': 272054155.15001464, '0,DW': 143057.6130658457, '4,HA': 12333.088336678396, '7,DW': 177970.2502180409, '1,HA': 12468.167534983124, '1,DW': 143057.6130658457, '10,Carb': 3391180.306684405, '7,HA': 12333.088336678396, '4,DW': 177970.2502180409, '2,HA': 12468.167534983124}\n"
     ]
    }
   ],
   "source": [
    "\"\"\"\n",
    "1. Solve the model with the reference points estimated with the Moderate choice model\n",
    "\"\"\"\n",
    "#-----------------------------------------------------------------------------\n",
    "# Read the preferences and build a relevant dictionary\n",
    "df = pd.read_csv('reference_points(moderate)20.4.2021.csv') \n",
    "\n",
    "refpoint = {}\n",
    "objs = ['Rev', 'HA', 'Carb', 'DW']\n",
    "for p in range(12):\n",
    "    for obj in objs:\n",
    "        refpoint[str(p) + ',' + obj] = df[obj][p]\n",
    "\n",
    "# # Reference point = 0.9 * ideal point \n",
    "#refpoint = {ki: vi*0.9 for ki,vi in M._ideal.items()}\n",
    "# # Solve ASF with the ref. point and inferred weights\n",
    "sol = M.solve_asf(refpoint)\n",
    "# # Print the objective vector converted back to maximization form\n",
    "print(sol[\"out\"])\n",
    "\n",
    "# Data frame\n",
    "obj_values = fsc.objvector2df(fsc.df2objvector(df, scenario = None))"
   ]
  },
  {
   "cell_type": "code",
   "execution_count": 66,
   "metadata": {},
   "outputs": [],
   "source": [
    "with open('Objective_values(moderate)20.4.2021.csv', 'w', newline='') as f:\n",
    "    objectives = ['Scenario', 'Rev', 'HA', 'Carb', 'DW' ]\n",
    "    thewriter = csv.DictWriter(f, fieldnames=objectives)\n",
    "    \n",
    "    thewriter.writeheader()\n",
    "    for i in range(12):\n",
    "        thewriter.writerow({'Scenario' : i, 'Rev' : obj_values.iloc[i,0], 'HA' : obj_values.iloc[i,1], 'Carb' : obj_values.iloc[i,2], 'DW' : obj_values.iloc[i,3]\n",
    "                               })"
   ]
  },
  {
   "cell_type": "code",
   "execution_count": 67,
   "metadata": {},
   "outputs": [
    {
     "data": {
      "text/html": [
       "<div>\n",
       "<style scoped>\n",
       "    .dataframe tbody tr th:only-of-type {\n",
       "        vertical-align: middle;\n",
       "    }\n",
       "\n",
       "    .dataframe tbody tr th {\n",
       "        vertical-align: top;\n",
       "    }\n",
       "\n",
       "    .dataframe thead th {\n",
       "        text-align: right;\n",
       "    }\n",
       "</style>\n",
       "<table border=\"1\" class=\"dataframe\">\n",
       "  <thead>\n",
       "    <tr style=\"text-align: right;\">\n",
       "      <th></th>\n",
       "      <th>Scenario</th>\n",
       "      <th>Rev</th>\n",
       "      <th>HA</th>\n",
       "      <th>Carb</th>\n",
       "      <th>DW</th>\n",
       "    </tr>\n",
       "  </thead>\n",
       "  <tbody>\n",
       "    <tr>\n",
       "      <th>0</th>\n",
       "      <td>0</td>\n",
       "      <td>2.000000e+08</td>\n",
       "      <td>17000.000000</td>\n",
       "      <td>3.500000e+06</td>\n",
       "      <td>120000.000000</td>\n",
       "    </tr>\n",
       "    <tr>\n",
       "      <th>1</th>\n",
       "      <td>1</td>\n",
       "      <td>2.714523e+08</td>\n",
       "      <td>19000.000000</td>\n",
       "      <td>4.000004e+06</td>\n",
       "      <td>147856.647372</td>\n",
       "    </tr>\n",
       "    <tr>\n",
       "      <th>2</th>\n",
       "      <td>2</td>\n",
       "      <td>2.804452e+08</td>\n",
       "      <td>17033.184796</td>\n",
       "      <td>4.000000e+06</td>\n",
       "      <td>133372.417734</td>\n",
       "    </tr>\n",
       "    <tr>\n",
       "      <th>3</th>\n",
       "      <td>3</td>\n",
       "      <td>3.000000e+08</td>\n",
       "      <td>19000.000000</td>\n",
       "      <td>4.000000e+06</td>\n",
       "      <td>150000.000000</td>\n",
       "    </tr>\n",
       "    <tr>\n",
       "      <th>4</th>\n",
       "      <td>4</td>\n",
       "      <td>2.706784e+08</td>\n",
       "      <td>19001.363044</td>\n",
       "      <td>4.598157e+06</td>\n",
       "      <td>188947.267875</td>\n",
       "    </tr>\n",
       "    <tr>\n",
       "      <th>5</th>\n",
       "      <td>5</td>\n",
       "      <td>2.905856e+08</td>\n",
       "      <td>17005.539732</td>\n",
       "      <td>4.369429e+06</td>\n",
       "      <td>166555.912413</td>\n",
       "    </tr>\n",
       "    <tr>\n",
       "      <th>6</th>\n",
       "      <td>6</td>\n",
       "      <td>2.950614e+08</td>\n",
       "      <td>19000.740311</td>\n",
       "      <td>4.598228e+06</td>\n",
       "      <td>188946.710278</td>\n",
       "    </tr>\n",
       "    <tr>\n",
       "      <th>7</th>\n",
       "      <td>7</td>\n",
       "      <td>3.130334e+08</td>\n",
       "      <td>17005.539730</td>\n",
       "      <td>4.369429e+06</td>\n",
       "      <td>166746.804264</td>\n",
       "    </tr>\n",
       "    <tr>\n",
       "      <th>8</th>\n",
       "      <td>8</td>\n",
       "      <td>1.500000e+08</td>\n",
       "      <td>17000.000000</td>\n",
       "      <td>4.500000e+06</td>\n",
       "      <td>170000.000000</td>\n",
       "    </tr>\n",
       "    <tr>\n",
       "      <th>9</th>\n",
       "      <td>9</td>\n",
       "      <td>2.718131e+08</td>\n",
       "      <td>17000.000000</td>\n",
       "      <td>4.733174e+06</td>\n",
       "      <td>199999.999993</td>\n",
       "    </tr>\n",
       "    <tr>\n",
       "      <th>10</th>\n",
       "      <td>10</td>\n",
       "      <td>3.120602e+08</td>\n",
       "      <td>19025.939333</td>\n",
       "      <td>4.736668e+06</td>\n",
       "      <td>227730.979719</td>\n",
       "    </tr>\n",
       "    <tr>\n",
       "      <th>11</th>\n",
       "      <td>11</td>\n",
       "      <td>2.000000e+08</td>\n",
       "      <td>17000.000000</td>\n",
       "      <td>5.000000e+06</td>\n",
       "      <td>200000.000000</td>\n",
       "    </tr>\n",
       "  </tbody>\n",
       "</table>\n",
       "</div>"
      ],
      "text/plain": [
       "    Scenario           Rev            HA          Carb             DW\n",
       "0          0  2.000000e+08  17000.000000  3.500000e+06  120000.000000\n",
       "1          1  2.714523e+08  19000.000000  4.000004e+06  147856.647372\n",
       "2          2  2.804452e+08  17033.184796  4.000000e+06  133372.417734\n",
       "3          3  3.000000e+08  19000.000000  4.000000e+06  150000.000000\n",
       "4          4  2.706784e+08  19001.363044  4.598157e+06  188947.267875\n",
       "5          5  2.905856e+08  17005.539732  4.369429e+06  166555.912413\n",
       "6          6  2.950614e+08  19000.740311  4.598228e+06  188946.710278\n",
       "7          7  3.130334e+08  17005.539730  4.369429e+06  166746.804264\n",
       "8          8  1.500000e+08  17000.000000  4.500000e+06  170000.000000\n",
       "9          9  2.718131e+08  17000.000000  4.733174e+06  199999.999993\n",
       "10        10  3.120602e+08  19025.939333  4.736668e+06  227730.979719\n",
       "11        11  2.000000e+08  17000.000000  5.000000e+06  200000.000000"
      ]
     },
     "execution_count": 67,
     "metadata": {},
     "output_type": "execute_result"
    }
   ],
   "source": [
    "dfm = pd.read_csv('Objective_values(moderate)20.4.2021.csv') \n",
    "dfm"
   ]
  },
  {
   "cell_type": "code",
   "execution_count": null,
   "metadata": {},
   "outputs": [],
   "source": []
  },
  {
   "cell_type": "code",
   "execution_count": 70,
   "metadata": {},
   "outputs": [
    {
     "data": {
      "application/vnd.plotly.v1+json": {
       "config": {
        "plotlyServerURL": "https://plot.ly"
       },
       "data": [
        {
         "dimensions": [
          {
           "label": "Revenues(↑)",
           "range": [
            150000000,
            313033407.57207733
           ],
           "values": [
            200000000,
            271452277.08705765,
            280445157.4679654,
            300000000,
            270678382.8777674,
            290585635.641876,
            295061412.79014534,
            313033407.57207733,
            150000000,
            271813133.0927313,
            312060155.160627,
            200000000
           ]
          },
          {
           "label": "Habitat Availability(↑)",
           "range": [
            16999.999999841108,
            19025.939332902697
           ],
           "values": [
            17000,
            18999.99999998852,
            17033.184796297446,
            19000,
            19001.363043648973,
            17005.539732052854,
            19000.740311287533,
            17005.539729776116,
            17000,
            16999.999999841108,
            19025.939332902697,
            17000
           ]
          },
          {
           "label": "CO2 storage(↑)",
           "range": [
            3500000,
            5000000
           ],
           "values": [
            3500000,
            4000003.8782229726,
            3999999.9999908064,
            4000000,
            4598157.255249142,
            4369429.118040178,
            4598227.955110382,
            4369429.118077757,
            4500000,
            4733173.6848240215,
            4736667.9544522315,
            5000000
           ]
          },
          {
           "label": "Dead wood(↑)",
           "range": [
            120000,
            227730.97971893
           ],
           "values": [
            120000,
            147856.6473719779,
            133372.41773356128,
            150000,
            188947.26787533512,
            166555.91241297926,
            188946.7102777047,
            166746.80426444768,
            170000,
            199999.99999277433,
            227730.97971893,
            200000
           ]
          },
          {
           "label": "Scenario",
           "range": [
            0,
            11
           ],
           "ticktext": [
            "s1",
            "s2",
            "s3",
            "s4",
            "s5",
            "s6",
            "s7",
            "s8",
            "s9",
            "s10",
            "s11",
            "s12"
           ],
           "tickvals": [
            0,
            1,
            2,
            3,
            4,
            5,
            6,
            7,
            8,
            9,
            10,
            11
           ],
           "values": [
            0,
            1,
            2,
            3,
            4,
            5,
            6,
            7,
            8,
            9,
            10,
            11
           ]
          }
         ],
         "line": {
          "color": [
           0,
           1,
           2,
           3,
           4,
           5,
           6,
           7,
           8,
           9,
           10,
           11
          ]
         },
         "type": "parcoords"
        }
       ],
       "layout": {
        "paper_bgcolor": "white",
        "plot_bgcolor": "white",
        "template": {
         "data": {
          "bar": [
           {
            "error_x": {
             "color": "#2a3f5f"
            },
            "error_y": {
             "color": "#2a3f5f"
            },
            "marker": {
             "line": {
              "color": "#E5ECF6",
              "width": 0.5
             }
            },
            "type": "bar"
           }
          ],
          "barpolar": [
           {
            "marker": {
             "line": {
              "color": "#E5ECF6",
              "width": 0.5
             }
            },
            "type": "barpolar"
           }
          ],
          "carpet": [
           {
            "aaxis": {
             "endlinecolor": "#2a3f5f",
             "gridcolor": "white",
             "linecolor": "white",
             "minorgridcolor": "white",
             "startlinecolor": "#2a3f5f"
            },
            "baxis": {
             "endlinecolor": "#2a3f5f",
             "gridcolor": "white",
             "linecolor": "white",
             "minorgridcolor": "white",
             "startlinecolor": "#2a3f5f"
            },
            "type": "carpet"
           }
          ],
          "choropleth": [
           {
            "colorbar": {
             "outlinewidth": 0,
             "ticks": ""
            },
            "type": "choropleth"
           }
          ],
          "contour": [
           {
            "colorbar": {
             "outlinewidth": 0,
             "ticks": ""
            },
            "colorscale": [
             [
              0,
              "#0d0887"
             ],
             [
              0.1111111111111111,
              "#46039f"
             ],
             [
              0.2222222222222222,
              "#7201a8"
             ],
             [
              0.3333333333333333,
              "#9c179e"
             ],
             [
              0.4444444444444444,
              "#bd3786"
             ],
             [
              0.5555555555555556,
              "#d8576b"
             ],
             [
              0.6666666666666666,
              "#ed7953"
             ],
             [
              0.7777777777777778,
              "#fb9f3a"
             ],
             [
              0.8888888888888888,
              "#fdca26"
             ],
             [
              1,
              "#f0f921"
             ]
            ],
            "type": "contour"
           }
          ],
          "contourcarpet": [
           {
            "colorbar": {
             "outlinewidth": 0,
             "ticks": ""
            },
            "type": "contourcarpet"
           }
          ],
          "heatmap": [
           {
            "colorbar": {
             "outlinewidth": 0,
             "ticks": ""
            },
            "colorscale": [
             [
              0,
              "#0d0887"
             ],
             [
              0.1111111111111111,
              "#46039f"
             ],
             [
              0.2222222222222222,
              "#7201a8"
             ],
             [
              0.3333333333333333,
              "#9c179e"
             ],
             [
              0.4444444444444444,
              "#bd3786"
             ],
             [
              0.5555555555555556,
              "#d8576b"
             ],
             [
              0.6666666666666666,
              "#ed7953"
             ],
             [
              0.7777777777777778,
              "#fb9f3a"
             ],
             [
              0.8888888888888888,
              "#fdca26"
             ],
             [
              1,
              "#f0f921"
             ]
            ],
            "type": "heatmap"
           }
          ],
          "heatmapgl": [
           {
            "colorbar": {
             "outlinewidth": 0,
             "ticks": ""
            },
            "colorscale": [
             [
              0,
              "#0d0887"
             ],
             [
              0.1111111111111111,
              "#46039f"
             ],
             [
              0.2222222222222222,
              "#7201a8"
             ],
             [
              0.3333333333333333,
              "#9c179e"
             ],
             [
              0.4444444444444444,
              "#bd3786"
             ],
             [
              0.5555555555555556,
              "#d8576b"
             ],
             [
              0.6666666666666666,
              "#ed7953"
             ],
             [
              0.7777777777777778,
              "#fb9f3a"
             ],
             [
              0.8888888888888888,
              "#fdca26"
             ],
             [
              1,
              "#f0f921"
             ]
            ],
            "type": "heatmapgl"
           }
          ],
          "histogram": [
           {
            "marker": {
             "colorbar": {
              "outlinewidth": 0,
              "ticks": ""
             }
            },
            "type": "histogram"
           }
          ],
          "histogram2d": [
           {
            "colorbar": {
             "outlinewidth": 0,
             "ticks": ""
            },
            "colorscale": [
             [
              0,
              "#0d0887"
             ],
             [
              0.1111111111111111,
              "#46039f"
             ],
             [
              0.2222222222222222,
              "#7201a8"
             ],
             [
              0.3333333333333333,
              "#9c179e"
             ],
             [
              0.4444444444444444,
              "#bd3786"
             ],
             [
              0.5555555555555556,
              "#d8576b"
             ],
             [
              0.6666666666666666,
              "#ed7953"
             ],
             [
              0.7777777777777778,
              "#fb9f3a"
             ],
             [
              0.8888888888888888,
              "#fdca26"
             ],
             [
              1,
              "#f0f921"
             ]
            ],
            "type": "histogram2d"
           }
          ],
          "histogram2dcontour": [
           {
            "colorbar": {
             "outlinewidth": 0,
             "ticks": ""
            },
            "colorscale": [
             [
              0,
              "#0d0887"
             ],
             [
              0.1111111111111111,
              "#46039f"
             ],
             [
              0.2222222222222222,
              "#7201a8"
             ],
             [
              0.3333333333333333,
              "#9c179e"
             ],
             [
              0.4444444444444444,
              "#bd3786"
             ],
             [
              0.5555555555555556,
              "#d8576b"
             ],
             [
              0.6666666666666666,
              "#ed7953"
             ],
             [
              0.7777777777777778,
              "#fb9f3a"
             ],
             [
              0.8888888888888888,
              "#fdca26"
             ],
             [
              1,
              "#f0f921"
             ]
            ],
            "type": "histogram2dcontour"
           }
          ],
          "mesh3d": [
           {
            "colorbar": {
             "outlinewidth": 0,
             "ticks": ""
            },
            "type": "mesh3d"
           }
          ],
          "parcoords": [
           {
            "line": {
             "colorbar": {
              "outlinewidth": 0,
              "ticks": ""
             }
            },
            "type": "parcoords"
           }
          ],
          "pie": [
           {
            "automargin": true,
            "type": "pie"
           }
          ],
          "scatter": [
           {
            "marker": {
             "colorbar": {
              "outlinewidth": 0,
              "ticks": ""
             }
            },
            "type": "scatter"
           }
          ],
          "scatter3d": [
           {
            "line": {
             "colorbar": {
              "outlinewidth": 0,
              "ticks": ""
             }
            },
            "marker": {
             "colorbar": {
              "outlinewidth": 0,
              "ticks": ""
             }
            },
            "type": "scatter3d"
           }
          ],
          "scattercarpet": [
           {
            "marker": {
             "colorbar": {
              "outlinewidth": 0,
              "ticks": ""
             }
            },
            "type": "scattercarpet"
           }
          ],
          "scattergeo": [
           {
            "marker": {
             "colorbar": {
              "outlinewidth": 0,
              "ticks": ""
             }
            },
            "type": "scattergeo"
           }
          ],
          "scattergl": [
           {
            "marker": {
             "colorbar": {
              "outlinewidth": 0,
              "ticks": ""
             }
            },
            "type": "scattergl"
           }
          ],
          "scattermapbox": [
           {
            "marker": {
             "colorbar": {
              "outlinewidth": 0,
              "ticks": ""
             }
            },
            "type": "scattermapbox"
           }
          ],
          "scatterpolar": [
           {
            "marker": {
             "colorbar": {
              "outlinewidth": 0,
              "ticks": ""
             }
            },
            "type": "scatterpolar"
           }
          ],
          "scatterpolargl": [
           {
            "marker": {
             "colorbar": {
              "outlinewidth": 0,
              "ticks": ""
             }
            },
            "type": "scatterpolargl"
           }
          ],
          "scatterternary": [
           {
            "marker": {
             "colorbar": {
              "outlinewidth": 0,
              "ticks": ""
             }
            },
            "type": "scatterternary"
           }
          ],
          "surface": [
           {
            "colorbar": {
             "outlinewidth": 0,
             "ticks": ""
            },
            "colorscale": [
             [
              0,
              "#0d0887"
             ],
             [
              0.1111111111111111,
              "#46039f"
             ],
             [
              0.2222222222222222,
              "#7201a8"
             ],
             [
              0.3333333333333333,
              "#9c179e"
             ],
             [
              0.4444444444444444,
              "#bd3786"
             ],
             [
              0.5555555555555556,
              "#d8576b"
             ],
             [
              0.6666666666666666,
              "#ed7953"
             ],
             [
              0.7777777777777778,
              "#fb9f3a"
             ],
             [
              0.8888888888888888,
              "#fdca26"
             ],
             [
              1,
              "#f0f921"
             ]
            ],
            "type": "surface"
           }
          ],
          "table": [
           {
            "cells": {
             "fill": {
              "color": "#EBF0F8"
             },
             "line": {
              "color": "white"
             }
            },
            "header": {
             "fill": {
              "color": "#C8D4E3"
             },
             "line": {
              "color": "white"
             }
            },
            "type": "table"
           }
          ]
         },
         "layout": {
          "annotationdefaults": {
           "arrowcolor": "#2a3f5f",
           "arrowhead": 0,
           "arrowwidth": 1
          },
          "coloraxis": {
           "colorbar": {
            "outlinewidth": 0,
            "ticks": ""
           }
          },
          "colorscale": {
           "diverging": [
            [
             0,
             "#8e0152"
            ],
            [
             0.1,
             "#c51b7d"
            ],
            [
             0.2,
             "#de77ae"
            ],
            [
             0.3,
             "#f1b6da"
            ],
            [
             0.4,
             "#fde0ef"
            ],
            [
             0.5,
             "#f7f7f7"
            ],
            [
             0.6,
             "#e6f5d0"
            ],
            [
             0.7,
             "#b8e186"
            ],
            [
             0.8,
             "#7fbc41"
            ],
            [
             0.9,
             "#4d9221"
            ],
            [
             1,
             "#276419"
            ]
           ],
           "sequential": [
            [
             0,
             "#0d0887"
            ],
            [
             0.1111111111111111,
             "#46039f"
            ],
            [
             0.2222222222222222,
             "#7201a8"
            ],
            [
             0.3333333333333333,
             "#9c179e"
            ],
            [
             0.4444444444444444,
             "#bd3786"
            ],
            [
             0.5555555555555556,
             "#d8576b"
            ],
            [
             0.6666666666666666,
             "#ed7953"
            ],
            [
             0.7777777777777778,
             "#fb9f3a"
            ],
            [
             0.8888888888888888,
             "#fdca26"
            ],
            [
             1,
             "#f0f921"
            ]
           ],
           "sequentialminus": [
            [
             0,
             "#0d0887"
            ],
            [
             0.1111111111111111,
             "#46039f"
            ],
            [
             0.2222222222222222,
             "#7201a8"
            ],
            [
             0.3333333333333333,
             "#9c179e"
            ],
            [
             0.4444444444444444,
             "#bd3786"
            ],
            [
             0.5555555555555556,
             "#d8576b"
            ],
            [
             0.6666666666666666,
             "#ed7953"
            ],
            [
             0.7777777777777778,
             "#fb9f3a"
            ],
            [
             0.8888888888888888,
             "#fdca26"
            ],
            [
             1,
             "#f0f921"
            ]
           ]
          },
          "colorway": [
           "#636efa",
           "#EF553B",
           "#00cc96",
           "#ab63fa",
           "#FFA15A",
           "#19d3f3",
           "#FF6692",
           "#B6E880",
           "#FF97FF",
           "#FECB52"
          ],
          "font": {
           "color": "#2a3f5f"
          },
          "geo": {
           "bgcolor": "white",
           "lakecolor": "white",
           "landcolor": "#E5ECF6",
           "showlakes": true,
           "showland": true,
           "subunitcolor": "white"
          },
          "hoverlabel": {
           "align": "left"
          },
          "hovermode": "closest",
          "mapbox": {
           "style": "light"
          },
          "paper_bgcolor": "white",
          "plot_bgcolor": "#E5ECF6",
          "polar": {
           "angularaxis": {
            "gridcolor": "white",
            "linecolor": "white",
            "ticks": ""
           },
           "bgcolor": "#E5ECF6",
           "radialaxis": {
            "gridcolor": "white",
            "linecolor": "white",
            "ticks": ""
           }
          },
          "scene": {
           "xaxis": {
            "backgroundcolor": "#E5ECF6",
            "gridcolor": "white",
            "gridwidth": 2,
            "linecolor": "white",
            "showbackground": true,
            "ticks": "",
            "zerolinecolor": "white"
           },
           "yaxis": {
            "backgroundcolor": "#E5ECF6",
            "gridcolor": "white",
            "gridwidth": 2,
            "linecolor": "white",
            "showbackground": true,
            "ticks": "",
            "zerolinecolor": "white"
           },
           "zaxis": {
            "backgroundcolor": "#E5ECF6",
            "gridcolor": "white",
            "gridwidth": 2,
            "linecolor": "white",
            "showbackground": true,
            "ticks": "",
            "zerolinecolor": "white"
           }
          },
          "shapedefaults": {
           "line": {
            "color": "#2a3f5f"
           }
          },
          "ternary": {
           "aaxis": {
            "gridcolor": "white",
            "linecolor": "white",
            "ticks": ""
           },
           "baxis": {
            "gridcolor": "white",
            "linecolor": "white",
            "ticks": ""
           },
           "bgcolor": "#E5ECF6",
           "caxis": {
            "gridcolor": "white",
            "linecolor": "white",
            "ticks": ""
           }
          },
          "title": {
           "x": 0.05
          },
          "xaxis": {
           "automargin": true,
           "gridcolor": "white",
           "linecolor": "white",
           "ticks": "",
           "title": {
            "standoff": 15
           },
           "zerolinecolor": "white",
           "zerolinewidth": 2
          },
          "yaxis": {
           "automargin": true,
           "gridcolor": "white",
           "linecolor": "white",
           "ticks": "",
           "title": {
            "standoff": 15
           },
           "zerolinecolor": "white",
           "zerolinewidth": 2
          }
         }
        }
       }
      },
      "text/html": [
       "<div>\n",
       "        \n",
       "        \n",
       "            <div id=\"c9cf7920-48ac-4b57-9533-566f8c95eb8e\" class=\"plotly-graph-div\" style=\"height:525px; width:100%;\"></div>\n",
       "            <script type=\"text/javascript\">\n",
       "                require([\"plotly\"], function(Plotly) {\n",
       "                    window.PLOTLYENV=window.PLOTLYENV || {};\n",
       "                    \n",
       "                if (document.getElementById(\"c9cf7920-48ac-4b57-9533-566f8c95eb8e\")) {\n",
       "                    Plotly.newPlot(\n",
       "                        'c9cf7920-48ac-4b57-9533-566f8c95eb8e',\n",
       "                        [{\"dimensions\": [{\"label\": \"Revenues(\\u2191)\", \"range\": [150000000.0, 313033407.57207733], \"values\": [200000000.0, 271452277.08705765, 280445157.4679654, 300000000.0, 270678382.8777674, 290585635.641876, 295061412.79014534, 313033407.57207733, 150000000.0, 271813133.0927313, 312060155.160627, 200000000.0]}, {\"label\": \"Habitat Availability(\\u2191)\", \"range\": [16999.999999841108, 19025.939332902697], \"values\": [17000.0, 18999.99999998852, 17033.184796297446, 19000.0, 19001.363043648973, 17005.539732052854, 19000.740311287533, 17005.539729776116, 17000.0, 16999.999999841108, 19025.939332902697, 17000.0]}, {\"label\": \"CO2 storage(\\u2191)\", \"range\": [3500000.0, 5000000.0], \"values\": [3500000.0, 4000003.8782229726, 3999999.9999908064, 4000000.0, 4598157.255249142, 4369429.118040178, 4598227.955110382, 4369429.118077757, 4500000.0, 4733173.6848240215, 4736667.9544522315, 5000000.0]}, {\"label\": \"Dead wood(\\u2191)\", \"range\": [120000.0, 227730.97971893], \"values\": [120000.0, 147856.6473719779, 133372.41773356128, 150000.0, 188947.26787533512, 166555.91241297926, 188946.7102777047, 166746.80426444768, 170000.0, 199999.99999277433, 227730.97971893, 200000.0]}, {\"label\": \"Scenario\", \"range\": [0, 11], \"ticktext\": [\"s1\", \"s2\", \"s3\", \"s4\", \"s5\", \"s6\", \"s7\", \"s8\", \"s9\", \"s10\", \"s11\", \"s12\"], \"tickvals\": [0, 1, 2, 3, 4, 5, 6, 7, 8, 9, 10, 11], \"values\": [0, 1, 2, 3, 4, 5, 6, 7, 8, 9, 10, 11]}], \"line\": {\"color\": [0, 1, 2, 3, 4, 5, 6, 7, 8, 9, 10, 11]}, \"type\": \"parcoords\"}],\n",
       "                        {\"paper_bgcolor\": \"white\", \"plot_bgcolor\": \"white\", \"template\": {\"data\": {\"bar\": [{\"error_x\": {\"color\": \"#2a3f5f\"}, \"error_y\": {\"color\": \"#2a3f5f\"}, \"marker\": {\"line\": {\"color\": \"#E5ECF6\", \"width\": 0.5}}, \"type\": \"bar\"}], \"barpolar\": [{\"marker\": {\"line\": {\"color\": \"#E5ECF6\", \"width\": 0.5}}, \"type\": \"barpolar\"}], \"carpet\": [{\"aaxis\": {\"endlinecolor\": \"#2a3f5f\", \"gridcolor\": \"white\", \"linecolor\": \"white\", \"minorgridcolor\": \"white\", \"startlinecolor\": \"#2a3f5f\"}, \"baxis\": {\"endlinecolor\": \"#2a3f5f\", \"gridcolor\": \"white\", \"linecolor\": \"white\", \"minorgridcolor\": \"white\", \"startlinecolor\": \"#2a3f5f\"}, \"type\": \"carpet\"}], \"choropleth\": [{\"colorbar\": {\"outlinewidth\": 0, \"ticks\": \"\"}, \"type\": \"choropleth\"}], \"contour\": [{\"colorbar\": {\"outlinewidth\": 0, \"ticks\": \"\"}, \"colorscale\": [[0.0, \"#0d0887\"], [0.1111111111111111, \"#46039f\"], [0.2222222222222222, \"#7201a8\"], [0.3333333333333333, \"#9c179e\"], [0.4444444444444444, \"#bd3786\"], [0.5555555555555556, \"#d8576b\"], [0.6666666666666666, \"#ed7953\"], [0.7777777777777778, \"#fb9f3a\"], [0.8888888888888888, \"#fdca26\"], [1.0, \"#f0f921\"]], \"type\": \"contour\"}], \"contourcarpet\": [{\"colorbar\": {\"outlinewidth\": 0, \"ticks\": \"\"}, \"type\": \"contourcarpet\"}], \"heatmap\": [{\"colorbar\": {\"outlinewidth\": 0, \"ticks\": \"\"}, \"colorscale\": [[0.0, \"#0d0887\"], [0.1111111111111111, \"#46039f\"], [0.2222222222222222, \"#7201a8\"], [0.3333333333333333, \"#9c179e\"], [0.4444444444444444, \"#bd3786\"], [0.5555555555555556, \"#d8576b\"], [0.6666666666666666, \"#ed7953\"], [0.7777777777777778, \"#fb9f3a\"], [0.8888888888888888, \"#fdca26\"], [1.0, \"#f0f921\"]], \"type\": \"heatmap\"}], \"heatmapgl\": [{\"colorbar\": {\"outlinewidth\": 0, \"ticks\": \"\"}, \"colorscale\": [[0.0, \"#0d0887\"], [0.1111111111111111, \"#46039f\"], [0.2222222222222222, \"#7201a8\"], [0.3333333333333333, \"#9c179e\"], [0.4444444444444444, \"#bd3786\"], [0.5555555555555556, \"#d8576b\"], [0.6666666666666666, \"#ed7953\"], [0.7777777777777778, \"#fb9f3a\"], [0.8888888888888888, \"#fdca26\"], [1.0, \"#f0f921\"]], \"type\": \"heatmapgl\"}], \"histogram\": [{\"marker\": {\"colorbar\": {\"outlinewidth\": 0, \"ticks\": \"\"}}, \"type\": \"histogram\"}], \"histogram2d\": [{\"colorbar\": {\"outlinewidth\": 0, \"ticks\": \"\"}, \"colorscale\": [[0.0, \"#0d0887\"], [0.1111111111111111, \"#46039f\"], [0.2222222222222222, \"#7201a8\"], [0.3333333333333333, \"#9c179e\"], [0.4444444444444444, \"#bd3786\"], [0.5555555555555556, \"#d8576b\"], [0.6666666666666666, \"#ed7953\"], [0.7777777777777778, \"#fb9f3a\"], [0.8888888888888888, \"#fdca26\"], [1.0, \"#f0f921\"]], \"type\": \"histogram2d\"}], \"histogram2dcontour\": [{\"colorbar\": {\"outlinewidth\": 0, \"ticks\": \"\"}, \"colorscale\": [[0.0, \"#0d0887\"], [0.1111111111111111, \"#46039f\"], [0.2222222222222222, \"#7201a8\"], [0.3333333333333333, \"#9c179e\"], [0.4444444444444444, \"#bd3786\"], [0.5555555555555556, \"#d8576b\"], [0.6666666666666666, \"#ed7953\"], [0.7777777777777778, \"#fb9f3a\"], [0.8888888888888888, \"#fdca26\"], [1.0, \"#f0f921\"]], \"type\": \"histogram2dcontour\"}], \"mesh3d\": [{\"colorbar\": {\"outlinewidth\": 0, \"ticks\": \"\"}, \"type\": \"mesh3d\"}], \"parcoords\": [{\"line\": {\"colorbar\": {\"outlinewidth\": 0, \"ticks\": \"\"}}, \"type\": \"parcoords\"}], \"pie\": [{\"automargin\": true, \"type\": \"pie\"}], \"scatter\": [{\"marker\": {\"colorbar\": {\"outlinewidth\": 0, \"ticks\": \"\"}}, \"type\": \"scatter\"}], \"scatter3d\": [{\"line\": {\"colorbar\": {\"outlinewidth\": 0, \"ticks\": \"\"}}, \"marker\": {\"colorbar\": {\"outlinewidth\": 0, \"ticks\": \"\"}}, \"type\": \"scatter3d\"}], \"scattercarpet\": [{\"marker\": {\"colorbar\": {\"outlinewidth\": 0, \"ticks\": \"\"}}, \"type\": \"scattercarpet\"}], \"scattergeo\": [{\"marker\": {\"colorbar\": {\"outlinewidth\": 0, \"ticks\": \"\"}}, \"type\": \"scattergeo\"}], \"scattergl\": [{\"marker\": {\"colorbar\": {\"outlinewidth\": 0, \"ticks\": \"\"}}, \"type\": \"scattergl\"}], \"scattermapbox\": [{\"marker\": {\"colorbar\": {\"outlinewidth\": 0, \"ticks\": \"\"}}, \"type\": \"scattermapbox\"}], \"scatterpolar\": [{\"marker\": {\"colorbar\": {\"outlinewidth\": 0, \"ticks\": \"\"}}, \"type\": \"scatterpolar\"}], \"scatterpolargl\": [{\"marker\": {\"colorbar\": {\"outlinewidth\": 0, \"ticks\": \"\"}}, \"type\": \"scatterpolargl\"}], \"scatterternary\": [{\"marker\": {\"colorbar\": {\"outlinewidth\": 0, \"ticks\": \"\"}}, \"type\": \"scatterternary\"}], \"surface\": [{\"colorbar\": {\"outlinewidth\": 0, \"ticks\": \"\"}, \"colorscale\": [[0.0, \"#0d0887\"], [0.1111111111111111, \"#46039f\"], [0.2222222222222222, \"#7201a8\"], [0.3333333333333333, \"#9c179e\"], [0.4444444444444444, \"#bd3786\"], [0.5555555555555556, \"#d8576b\"], [0.6666666666666666, \"#ed7953\"], [0.7777777777777778, \"#fb9f3a\"], [0.8888888888888888, \"#fdca26\"], [1.0, \"#f0f921\"]], \"type\": \"surface\"}], \"table\": [{\"cells\": {\"fill\": {\"color\": \"#EBF0F8\"}, \"line\": {\"color\": \"white\"}}, \"header\": {\"fill\": {\"color\": \"#C8D4E3\"}, \"line\": {\"color\": \"white\"}}, \"type\": \"table\"}]}, \"layout\": {\"annotationdefaults\": {\"arrowcolor\": \"#2a3f5f\", \"arrowhead\": 0, \"arrowwidth\": 1}, \"coloraxis\": {\"colorbar\": {\"outlinewidth\": 0, \"ticks\": \"\"}}, \"colorscale\": {\"diverging\": [[0, \"#8e0152\"], [0.1, \"#c51b7d\"], [0.2, \"#de77ae\"], [0.3, \"#f1b6da\"], [0.4, \"#fde0ef\"], [0.5, \"#f7f7f7\"], [0.6, \"#e6f5d0\"], [0.7, \"#b8e186\"], [0.8, \"#7fbc41\"], [0.9, \"#4d9221\"], [1, \"#276419\"]], \"sequential\": [[0.0, \"#0d0887\"], [0.1111111111111111, \"#46039f\"], [0.2222222222222222, \"#7201a8\"], [0.3333333333333333, \"#9c179e\"], [0.4444444444444444, \"#bd3786\"], [0.5555555555555556, \"#d8576b\"], [0.6666666666666666, \"#ed7953\"], [0.7777777777777778, \"#fb9f3a\"], [0.8888888888888888, \"#fdca26\"], [1.0, \"#f0f921\"]], \"sequentialminus\": [[0.0, \"#0d0887\"], [0.1111111111111111, \"#46039f\"], [0.2222222222222222, \"#7201a8\"], [0.3333333333333333, \"#9c179e\"], [0.4444444444444444, \"#bd3786\"], [0.5555555555555556, \"#d8576b\"], [0.6666666666666666, \"#ed7953\"], [0.7777777777777778, \"#fb9f3a\"], [0.8888888888888888, \"#fdca26\"], [1.0, \"#f0f921\"]]}, \"colorway\": [\"#636efa\", \"#EF553B\", \"#00cc96\", \"#ab63fa\", \"#FFA15A\", \"#19d3f3\", \"#FF6692\", \"#B6E880\", \"#FF97FF\", \"#FECB52\"], \"font\": {\"color\": \"#2a3f5f\"}, \"geo\": {\"bgcolor\": \"white\", \"lakecolor\": \"white\", \"landcolor\": \"#E5ECF6\", \"showlakes\": true, \"showland\": true, \"subunitcolor\": \"white\"}, \"hoverlabel\": {\"align\": \"left\"}, \"hovermode\": \"closest\", \"mapbox\": {\"style\": \"light\"}, \"paper_bgcolor\": \"white\", \"plot_bgcolor\": \"#E5ECF6\", \"polar\": {\"angularaxis\": {\"gridcolor\": \"white\", \"linecolor\": \"white\", \"ticks\": \"\"}, \"bgcolor\": \"#E5ECF6\", \"radialaxis\": {\"gridcolor\": \"white\", \"linecolor\": \"white\", \"ticks\": \"\"}}, \"scene\": {\"xaxis\": {\"backgroundcolor\": \"#E5ECF6\", \"gridcolor\": \"white\", \"gridwidth\": 2, \"linecolor\": \"white\", \"showbackground\": true, \"ticks\": \"\", \"zerolinecolor\": \"white\"}, \"yaxis\": {\"backgroundcolor\": \"#E5ECF6\", \"gridcolor\": \"white\", \"gridwidth\": 2, \"linecolor\": \"white\", \"showbackground\": true, \"ticks\": \"\", \"zerolinecolor\": \"white\"}, \"zaxis\": {\"backgroundcolor\": \"#E5ECF6\", \"gridcolor\": \"white\", \"gridwidth\": 2, \"linecolor\": \"white\", \"showbackground\": true, \"ticks\": \"\", \"zerolinecolor\": \"white\"}}, \"shapedefaults\": {\"line\": {\"color\": \"#2a3f5f\"}}, \"ternary\": {\"aaxis\": {\"gridcolor\": \"white\", \"linecolor\": \"white\", \"ticks\": \"\"}, \"baxis\": {\"gridcolor\": \"white\", \"linecolor\": \"white\", \"ticks\": \"\"}, \"bgcolor\": \"#E5ECF6\", \"caxis\": {\"gridcolor\": \"white\", \"linecolor\": \"white\", \"ticks\": \"\"}}, \"title\": {\"x\": 0.05}, \"xaxis\": {\"automargin\": true, \"gridcolor\": \"white\", \"linecolor\": \"white\", \"ticks\": \"\", \"title\": {\"standoff\": 15}, \"zerolinecolor\": \"white\", \"zerolinewidth\": 2}, \"yaxis\": {\"automargin\": true, \"gridcolor\": \"white\", \"linecolor\": \"white\", \"ticks\": \"\", \"title\": {\"standoff\": 15}, \"zerolinecolor\": \"white\", \"zerolinewidth\": 2}}}},\n",
       "                        {\"responsive\": true}\n",
       "                    ).then(function(){\n",
       "                            \n",
       "var gd = document.getElementById('c9cf7920-48ac-4b57-9533-566f8c95eb8e');\n",
       "var x = new MutationObserver(function (mutations, observer) {{\n",
       "        var display = window.getComputedStyle(gd).display;\n",
       "        if (!display || display === 'none') {{\n",
       "            console.log([gd, 'removed!']);\n",
       "            Plotly.purge(gd);\n",
       "            observer.disconnect();\n",
       "        }}\n",
       "}});\n",
       "\n",
       "// Listen for the removal of the full notebook cells\n",
       "var notebookContainer = gd.closest('#notebook-container');\n",
       "if (notebookContainer) {{\n",
       "    x.observe(notebookContainer, {childList: true});\n",
       "}}\n",
       "\n",
       "// Listen for the clearing of the current output cell\n",
       "var outputEl = gd.closest('.output');\n",
       "if (outputEl) {{\n",
       "    x.observe(outputEl, {childList: true});\n",
       "}}\n",
       "\n",
       "                        })\n",
       "                };\n",
       "                });\n",
       "            </script>\n",
       "        </div>"
      ]
     },
     "metadata": {},
     "output_type": "display_data"
    }
   ],
   "source": [
    "# Describing the objectives in all scenarios\n",
    "\"\"\"\n",
    "Each line describes objective values in a scenario\n",
    "\"\"\"\n",
    "import plotly.graph_objects as go\n",
    "\n",
    "df = dfm\n",
    "\n",
    "fig = go.Figure(data=\n",
    "    go.Parcoords(\n",
    "        line = dict(color = df['Scenario'],\n",
    "                   #colorscale = [[0.2,'black'],[0.4,'purple'],[0.6,'red'],[.8,'gold']]\n",
    "                   ),\n",
    "        dimensions = list([\n",
    "            dict(range = [df['Rev'].min(),df['Rev'].max()],\n",
    "                #constraintrange = [4,8],\n",
    "                label = 'Revenues(↑)', values = df['Rev']),\n",
    "            dict(range = [df['HA'].min(),df['HA'].max()],\n",
    "                label = 'Habitat Availability(↑)', values = df['HA']),\n",
    "            dict(range = [df['Carb'].min(),df['Carb'].max()],\n",
    "                label = 'CO2 storage(↑)', values = df['Carb']),\n",
    "            dict(range = [df['DW'].min(),df['DW'].max()],\n",
    "                label = 'Dead wood(↑)', values = df['DW']),\n",
    "            dict(range = [0,11],\n",
    "                tickvals = [0,1,2,3,4,5,6,7,8,9,10,11],\n",
    "                ticktext = ['s1','s2','s3','s4','s5','s6','s7','s8','s9','s10','s11','s12'],\n",
    "                label = 'Scenario', values = df['Scenario'])\n",
    "        ])\n",
    "    )\n",
    ")\n",
    "\n",
    "fig.update_layout(\n",
    "    plot_bgcolor = 'white',\n",
    "    paper_bgcolor = 'white'\n",
    ")\n",
    "\n",
    "fig.show()"
   ]
  },
  {
   "cell_type": "code",
   "execution_count": null,
   "metadata": {},
   "outputs": [],
   "source": []
  },
  {
   "cell_type": "code",
   "execution_count": 35,
   "metadata": {
    "scrolled": true
   },
   "outputs": [
    {
     "name": "stdout",
     "output_type": "stream",
     "text": [
      "Gurobi Optimizer version 9.0.2 build v9.0.2rc0 (win64)\n",
      "Optimize a model with 29762 rows, 161330 columns and 7722613 nonzeros\n",
      "Model fingerprint: 0x2e2e0ccc\n",
      "Variable types: 49 continuous, 161281 integer (161281 binary)\n",
      "Coefficient statistics:\n",
      "  Matrix range     [4e-09, 2e+05]\n",
      "  Objective range  [4e-13, 1e+00]\n",
      "  Bounds range     [1e+00, 1e+00]\n",
      "  RHS range        [6e-01, 3e+00]\n",
      "Warning: Model contains large matrix coefficient range\n",
      "\n",
      "MIP start from previous solve produced solution with objective -1.52448 (0.82s)\n",
      "Loaded MIP start from previous solve with objective -1.52448\n",
      "\n",
      "Presolve removed 62 rows and 9046 columns (presolve time = 5s) ...\n",
      "Presolve removed 98 rows and 9064 columns (presolve time = 11s) ...\n",
      "Presolve removed 62 rows and 9023 columns\n",
      "Presolve time: 11.83s\n",
      "Presolved: 29700 rows, 152307 columns, 3326423 nonzeros\n",
      "Variable types: 26 continuous, 152281 integer (152235 binary)\n",
      "\n",
      "Deterministic concurrent LP optimizer: primal simplex, dual simplex, and barrier\n",
      "Showing barrier log only...\n",
      "\n",
      "Root barrier log...\n",
      "\n",
      "Ordering time: 0.01s\n",
      "\n",
      "Barrier statistics:\n",
      " Free vars  : 12\n",
      " AA' NZ     : 5.923e+05\n",
      " Factor NZ  : 6.301e+05 (roughly 80 MBytes of memory)\n",
      " Factor Ops : 1.352e+07 (less than 1 second per iteration)\n",
      " Threads    : 2\n",
      "\n",
      "                  Objective                Residual\n",
      "Iter       Primal          Dual         Primal    Dual     Compl     Time\n",
      "   0   2.70250444e+04 -1.01993945e+08  6.42e+06 3.52e-10  3.39e+06    16s\n",
      "   1   2.53066036e+04  6.89497441e+07  6.01e+06 4.25e+02  3.17e+06    16s\n",
      "   2   1.05676896e+04  2.78539308e+07  2.51e+06 3.79e+02  1.34e+06    18s\n",
      "   3   2.69867118e+03 -6.61366240e+08  6.42e+05 1.75e+02  3.49e+05    19s\n",
      "   4   7.19415242e+02 -8.44522916e+08  1.72e+05 1.11e+02  9.66e+04    19s\n",
      "\n",
      "Barrier performed 4 iterations in 19.30 seconds\n",
      "Barrier solve interrupted - model solved by another algorithm\n",
      "\n",
      "Concurrent spin time: 3.19s (can be avoided by choosing Method=3)\n",
      "\n",
      "Solved with primal simplex\n",
      "\n",
      "Root relaxation: cutoff, 6315 iterations, 7.64 seconds\n",
      "\n",
      "    Nodes    |    Current Node    |     Objective Bounds      |     Work\n",
      " Expl Unexpl |  Obj  Depth IntInf | Incumbent    BestBd   Gap | It/Node Time\n",
      "\n",
      "     0     0     cutoff    0        -1.52448   -1.52448  0.00%     -   21s\n",
      "\n",
      "Explored 0 nodes (6315 simplex iterations) in 21.33 seconds\n",
      "Thread count was 8 (of 8 available processors)\n",
      "\n",
      "Solution count 1: -1.52448 \n",
      "No other solutions better than -1.52448\n",
      "\n",
      "Optimal solution found (tolerance 1.00e-04)\n",
      "Best objective -1.524481144661e+00, best bound -1.524481144661e+00, gap 0.0000%\n",
      "{'4,Rev': 233301107.87059432, '5,DW': 177970.2502180409, '2,Rev': 249020461.01906237, '7,Rev': 287789170.8843141, '9,DW': 212921.79749266832, '5,Carb': 3193552.2947187587, '6,Rev': 261411197.89525703, '9,HA': 12214.488091816631, '10,HA': 12214.488091816631, '3,Rev': 275398434.00811774, '4,Carb': 3193552.2947187587, '6,HA': 12333.088336678396, '11,Rev': 300164245.1746755, '3,DW': 143057.6130658457, '8,Rev': 245676182.16095918, '11,HA': 12214.488091816631, '11,Carb': 3391180.306684405, '1,Rev': 247288343.9834543, '7,Carb': 3193552.2947187587, '2,DW': 143057.6130658457, '8,DW': 212921.79749266832, '9,Carb': 3391180.306684405, '5,HA': 12333.088336678396, '6,Carb': 3193552.2947187587, '8,HA': 12214.488091816631, '0,Carb': 2995992.8523079962, '3,HA': 12468.167534983124, '5,Rev': 259679080.85964835, '1,Carb': 2995992.8523079962, '2,Carb': 2995992.8523079962, '3,Carb': 2995992.8523079962, '11,DW': 212921.79749266832, '0,HA': 12468.167534983124, '0,Rev': 220910370.99440008, '10,Rev': 273786272.18562055, '8,Carb': 3391180.306684405, '10,DW': 212921.79749266832, '6,DW': 177970.2502180409, '9,Rev': 272054155.15001464, '0,DW': 143057.6130658457, '4,HA': 12333.088336678396, '7,DW': 177970.2502180409, '1,HA': 12468.167534983124, '1,DW': 143057.6130658457, '10,Carb': 3391180.306684405, '7,HA': 12333.088336678396, '4,DW': 177970.2502180409, '2,HA': 12468.167534983124}\n"
     ]
    },
    {
     "data": {
      "text/html": [
       "<div>\n",
       "<style scoped>\n",
       "    .dataframe tbody tr th:only-of-type {\n",
       "        vertical-align: middle;\n",
       "    }\n",
       "\n",
       "    .dataframe tbody tr th {\n",
       "        vertical-align: top;\n",
       "    }\n",
       "\n",
       "    .dataframe thead th {\n",
       "        text-align: right;\n",
       "    }\n",
       "</style>\n",
       "<table border=\"1\" class=\"dataframe\">\n",
       "  <thead>\n",
       "    <tr style=\"text-align: right;\">\n",
       "      <th></th>\n",
       "      <th>Rev</th>\n",
       "      <th>HA</th>\n",
       "      <th>Carb</th>\n",
       "      <th>DW</th>\n",
       "      <th>Scenario</th>\n",
       "    </tr>\n",
       "  </thead>\n",
       "  <tbody>\n",
       "    <tr>\n",
       "      <th>0</th>\n",
       "      <td>2e+08</td>\n",
       "      <td>17000</td>\n",
       "      <td>3.5e+06</td>\n",
       "      <td>120000</td>\n",
       "      <td>0</td>\n",
       "    </tr>\n",
       "    <tr>\n",
       "      <th>1</th>\n",
       "      <td>2.72677e+08</td>\n",
       "      <td>20225.3</td>\n",
       "      <td>4.449e+06</td>\n",
       "      <td>218153</td>\n",
       "      <td>1</td>\n",
       "    </tr>\n",
       "    <tr>\n",
       "      <th>2</th>\n",
       "      <td>2.83046e+08</td>\n",
       "      <td>20225.3</td>\n",
       "      <td>4.449e+06</td>\n",
       "      <td>218153</td>\n",
       "      <td>2</td>\n",
       "    </tr>\n",
       "    <tr>\n",
       "      <th>3</th>\n",
       "      <td>3e+08</td>\n",
       "      <td>19000</td>\n",
       "      <td>4e+06</td>\n",
       "      <td>150000</td>\n",
       "      <td>3</td>\n",
       "    </tr>\n",
       "    <tr>\n",
       "      <th>4</th>\n",
       "      <td>2.72688e+08</td>\n",
       "      <td>20244.7</td>\n",
       "      <td>4.89163e+06</td>\n",
       "      <td>279943</td>\n",
       "      <td>4</td>\n",
       "    </tr>\n",
       "    <tr>\n",
       "      <th>5</th>\n",
       "      <td>2.91944e+08</td>\n",
       "      <td>20244.7</td>\n",
       "      <td>4.89163e+06</td>\n",
       "      <td>279943</td>\n",
       "      <td>5</td>\n",
       "    </tr>\n",
       "    <tr>\n",
       "      <th>6</th>\n",
       "      <td>2.97258e+08</td>\n",
       "      <td>20244.7</td>\n",
       "      <td>4.89163e+06</td>\n",
       "      <td>279943</td>\n",
       "      <td>6</td>\n",
       "    </tr>\n",
       "    <tr>\n",
       "      <th>7</th>\n",
       "      <td>3.14576e+08</td>\n",
       "      <td>20244.7</td>\n",
       "      <td>4.89163e+06</td>\n",
       "      <td>279943</td>\n",
       "      <td>7</td>\n",
       "    </tr>\n",
       "    <tr>\n",
       "      <th>8</th>\n",
       "      <td>1.5e+08</td>\n",
       "      <td>17000</td>\n",
       "      <td>4.5e+06</td>\n",
       "      <td>170000</td>\n",
       "      <td>8</td>\n",
       "    </tr>\n",
       "    <tr>\n",
       "      <th>9</th>\n",
       "      <td>3.1276e+08</td>\n",
       "      <td>20288</td>\n",
       "      <td>5.33769e+06</td>\n",
       "      <td>341395</td>\n",
       "      <td>9</td>\n",
       "    </tr>\n",
       "    <tr>\n",
       "      <th>10</th>\n",
       "      <td>3.14383e+08</td>\n",
       "      <td>20288</td>\n",
       "      <td>5.33769e+06</td>\n",
       "      <td>341395</td>\n",
       "      <td>10</td>\n",
       "    </tr>\n",
       "    <tr>\n",
       "      <th>11</th>\n",
       "      <td>2e+08</td>\n",
       "      <td>17000</td>\n",
       "      <td>5e+06</td>\n",
       "      <td>200000</td>\n",
       "      <td>11</td>\n",
       "    </tr>\n",
       "  </tbody>\n",
       "</table>\n",
       "</div>"
      ],
      "text/plain": [
       "            Rev       HA         Carb      DW  Scenario\n",
       "0         2e+08    17000      3.5e+06  120000         0\n",
       "1   2.72677e+08  20225.3    4.449e+06  218153         1\n",
       "2   2.83046e+08  20225.3    4.449e+06  218153         2\n",
       "3         3e+08    19000        4e+06  150000         3\n",
       "4   2.72688e+08  20244.7  4.89163e+06  279943         4\n",
       "5   2.91944e+08  20244.7  4.89163e+06  279943         5\n",
       "6   2.97258e+08  20244.7  4.89163e+06  279943         6\n",
       "7   3.14576e+08  20244.7  4.89163e+06  279943         7\n",
       "8       1.5e+08    17000      4.5e+06  170000         8\n",
       "9    3.1276e+08    20288  5.33769e+06  341395         9\n",
       "10  3.14383e+08    20288  5.33769e+06  341395        10\n",
       "11        2e+08    17000        5e+06  200000        11"
      ]
     },
     "execution_count": 35,
     "metadata": {},
     "output_type": "execute_result"
    }
   ],
   "source": [
    "\"\"\"\n",
    "2. Solve the model with the reference points estimated with the Idealistic choice model\n",
    "\n",
    "\"\"\"\n",
    "\n",
    "# Read the preferences and build a relevant dictionary\n",
    "df = pd.read_csv('reference_points(idealistic)20.4.2021.csv') \n",
    "\n",
    "refpoint = {}\n",
    "objs = ['Rev', 'HA', 'Carb', 'DW']\n",
    "for p in range(12):\n",
    "    for obj in objs:\n",
    "        refpoint[str(p) + ',' + obj] = df[obj][p]\n",
    "        \n",
    "#-----------------------------------------------------------------------------\n",
    "\n",
    "# # Solve ASF with the ref. point and inferred weights\n",
    "sol = M.solve_asf(refpoint)\n",
    "# # Print the objective vector converted back to maximization form\n",
    "print(sol[\"out\"])\n",
    "\n",
    "# Data frame\n",
    "obj_values = fsc.objvector2df(fsc.df2objvector(df, scenario = None))\n",
    "obj_values"
   ]
  },
  {
   "cell_type": "code",
   "execution_count": 36,
   "metadata": {},
   "outputs": [],
   "source": [
    "with open('Objective_values(idealistic)20.4.2021.csv', 'w', newline='') as f:\n",
    "    objectives = ['Scenario', 'Rev', 'HA', 'Carb', 'DW' ]\n",
    "    thewriter = csv.DictWriter(f, fieldnames=objectives)\n",
    "    \n",
    "    thewriter.writeheader()\n",
    "    for i in range(12):\n",
    "        thewriter.writerow({'Scenario' : i, 'Rev' : obj_values.iloc[i,0], 'HA' : obj_values.iloc[i,1], 'Carb' : obj_values.iloc[i,2], 'DW' : obj_values.iloc[i,3]\n",
    "                               })"
   ]
  },
  {
   "cell_type": "code",
   "execution_count": 64,
   "metadata": {},
   "outputs": [
    {
     "data": {
      "text/html": [
       "<div>\n",
       "<style scoped>\n",
       "    .dataframe tbody tr th:only-of-type {\n",
       "        vertical-align: middle;\n",
       "    }\n",
       "\n",
       "    .dataframe tbody tr th {\n",
       "        vertical-align: top;\n",
       "    }\n",
       "\n",
       "    .dataframe thead th {\n",
       "        text-align: right;\n",
       "    }\n",
       "</style>\n",
       "<table border=\"1\" class=\"dataframe\">\n",
       "  <thead>\n",
       "    <tr style=\"text-align: right;\">\n",
       "      <th></th>\n",
       "      <th>Scenario</th>\n",
       "      <th>Rev</th>\n",
       "      <th>HA</th>\n",
       "      <th>Carb</th>\n",
       "      <th>DW</th>\n",
       "    </tr>\n",
       "  </thead>\n",
       "  <tbody>\n",
       "    <tr>\n",
       "      <th>0</th>\n",
       "      <td>0</td>\n",
       "      <td>2.000000e+08</td>\n",
       "      <td>17000.000000</td>\n",
       "      <td>3.500000e+06</td>\n",
       "      <td>120000.000000</td>\n",
       "    </tr>\n",
       "    <tr>\n",
       "      <th>1</th>\n",
       "      <td>1</td>\n",
       "      <td>2.726771e+08</td>\n",
       "      <td>20225.257710</td>\n",
       "      <td>4.449001e+06</td>\n",
       "      <td>218153.215498</td>\n",
       "    </tr>\n",
       "    <tr>\n",
       "      <th>2</th>\n",
       "      <td>2</td>\n",
       "      <td>2.830465e+08</td>\n",
       "      <td>20225.257707</td>\n",
       "      <td>4.449001e+06</td>\n",
       "      <td>218153.215498</td>\n",
       "    </tr>\n",
       "    <tr>\n",
       "      <th>3</th>\n",
       "      <td>3</td>\n",
       "      <td>3.000000e+08</td>\n",
       "      <td>19000.000000</td>\n",
       "      <td>4.000000e+06</td>\n",
       "      <td>150000.000000</td>\n",
       "    </tr>\n",
       "    <tr>\n",
       "      <th>4</th>\n",
       "      <td>4</td>\n",
       "      <td>2.726884e+08</td>\n",
       "      <td>20244.693374</td>\n",
       "      <td>4.891634e+06</td>\n",
       "      <td>279942.643896</td>\n",
       "    </tr>\n",
       "    <tr>\n",
       "      <th>5</th>\n",
       "      <td>5</td>\n",
       "      <td>2.919437e+08</td>\n",
       "      <td>20244.693371</td>\n",
       "      <td>4.891634e+06</td>\n",
       "      <td>279942.643896</td>\n",
       "    </tr>\n",
       "    <tr>\n",
       "      <th>6</th>\n",
       "      <td>6</td>\n",
       "      <td>2.972581e+08</td>\n",
       "      <td>20244.693374</td>\n",
       "      <td>4.891634e+06</td>\n",
       "      <td>279942.643896</td>\n",
       "    </tr>\n",
       "    <tr>\n",
       "      <th>7</th>\n",
       "      <td>7</td>\n",
       "      <td>3.145764e+08</td>\n",
       "      <td>20244.693374</td>\n",
       "      <td>4.891634e+06</td>\n",
       "      <td>279942.643896</td>\n",
       "    </tr>\n",
       "    <tr>\n",
       "      <th>8</th>\n",
       "      <td>8</td>\n",
       "      <td>1.500000e+08</td>\n",
       "      <td>17000.000000</td>\n",
       "      <td>4.500000e+06</td>\n",
       "      <td>170000.000000</td>\n",
       "    </tr>\n",
       "    <tr>\n",
       "      <th>9</th>\n",
       "      <td>9</td>\n",
       "      <td>3.127598e+08</td>\n",
       "      <td>20288.032234</td>\n",
       "      <td>5.337689e+06</td>\n",
       "      <td>341394.859492</td>\n",
       "    </tr>\n",
       "    <tr>\n",
       "      <th>10</th>\n",
       "      <td>10</td>\n",
       "      <td>3.143834e+08</td>\n",
       "      <td>20288.032234</td>\n",
       "      <td>5.337689e+06</td>\n",
       "      <td>341394.859492</td>\n",
       "    </tr>\n",
       "    <tr>\n",
       "      <th>11</th>\n",
       "      <td>11</td>\n",
       "      <td>2.000000e+08</td>\n",
       "      <td>17000.000000</td>\n",
       "      <td>5.000000e+06</td>\n",
       "      <td>200000.000000</td>\n",
       "    </tr>\n",
       "  </tbody>\n",
       "</table>\n",
       "</div>"
      ],
      "text/plain": [
       "    Scenario           Rev            HA          Carb             DW\n",
       "0          0  2.000000e+08  17000.000000  3.500000e+06  120000.000000\n",
       "1          1  2.726771e+08  20225.257710  4.449001e+06  218153.215498\n",
       "2          2  2.830465e+08  20225.257707  4.449001e+06  218153.215498\n",
       "3          3  3.000000e+08  19000.000000  4.000000e+06  150000.000000\n",
       "4          4  2.726884e+08  20244.693374  4.891634e+06  279942.643896\n",
       "5          5  2.919437e+08  20244.693371  4.891634e+06  279942.643896\n",
       "6          6  2.972581e+08  20244.693374  4.891634e+06  279942.643896\n",
       "7          7  3.145764e+08  20244.693374  4.891634e+06  279942.643896\n",
       "8          8  1.500000e+08  17000.000000  4.500000e+06  170000.000000\n",
       "9          9  3.127598e+08  20288.032234  5.337689e+06  341394.859492\n",
       "10        10  3.143834e+08  20288.032234  5.337689e+06  341394.859492\n",
       "11        11  2.000000e+08  17000.000000  5.000000e+06  200000.000000"
      ]
     },
     "execution_count": 64,
     "metadata": {},
     "output_type": "execute_result"
    }
   ],
   "source": [
    "dfi = pd.read_csv('Objective_values(idealistic)20.4.2021.csv') \n",
    "dfi"
   ]
  },
  {
   "cell_type": "code",
   "execution_count": 71,
   "metadata": {},
   "outputs": [
    {
     "data": {
      "application/vnd.plotly.v1+json": {
       "config": {
        "plotlyServerURL": "https://plot.ly"
       },
       "data": [
        {
         "dimensions": [
          {
           "label": "Revenues(↑)",
           "range": [
            150000000,
            314576432.62567097
           ],
           "values": [
            200000000,
            272677145.824145,
            283046490.961312,
            300000000,
            272688364.302847,
            291943691.623345,
            297258142.873984,
            314576432.62567097,
            150000000,
            312759842.146451,
            314383374.229299,
            200000000
           ]
          },
          {
           "label": "Habitat Availability(↑)",
           "range": [
            17000,
            20288.03223366566
           ],
           "values": [
            17000,
            20225.25770987376,
            20225.257707264576,
            19000,
            20244.69337365745,
            20244.69337108137,
            20244.69337365748,
            20244.69337365745,
            17000,
            20288.032233665657,
            20288.03223366566,
            17000
           ]
          },
          {
           "label": "CO2 storage(↑)",
           "range": [
            3500000,
            5337689.24434753
           ],
           "values": [
            3500000,
            4449001.4721100135,
            4449001.472110001,
            4000000,
            4891634.334371832,
            4891634.33437182,
            4891634.334371831,
            4891634.334371831,
            4500000,
            5337689.24434753,
            5337689.24434753,
            5000000
           ]
          },
          {
           "label": "Dead wood(↑)",
           "range": [
            120000,
            341394.85949194647
           ],
           "values": [
            120000,
            218153.215498235,
            218153.2154981315,
            150000,
            279942.64389559143,
            279942.6438955129,
            279942.6438955913,
            279942.64389559143,
            170000,
            341394.85949194647,
            341394.85949194647,
            200000
           ]
          },
          {
           "label": "Scenario",
           "range": [
            0,
            11
           ],
           "ticktext": [
            "s1",
            "s2",
            "s3",
            "s4",
            "s5",
            "s6",
            "s7",
            "s8",
            "s9",
            "s10",
            "s11",
            "s12"
           ],
           "tickvals": [
            0,
            1,
            2,
            3,
            4,
            5,
            6,
            7,
            8,
            9,
            10,
            11
           ],
           "values": [
            0,
            1,
            2,
            3,
            4,
            5,
            6,
            7,
            8,
            9,
            10,
            11
           ]
          }
         ],
         "line": {
          "color": [
           0,
           1,
           2,
           3,
           4,
           5,
           6,
           7,
           8,
           9,
           10,
           11
          ]
         },
         "type": "parcoords"
        }
       ],
       "layout": {
        "paper_bgcolor": "white",
        "plot_bgcolor": "white",
        "template": {
         "data": {
          "bar": [
           {
            "error_x": {
             "color": "#2a3f5f"
            },
            "error_y": {
             "color": "#2a3f5f"
            },
            "marker": {
             "line": {
              "color": "#E5ECF6",
              "width": 0.5
             }
            },
            "type": "bar"
           }
          ],
          "barpolar": [
           {
            "marker": {
             "line": {
              "color": "#E5ECF6",
              "width": 0.5
             }
            },
            "type": "barpolar"
           }
          ],
          "carpet": [
           {
            "aaxis": {
             "endlinecolor": "#2a3f5f",
             "gridcolor": "white",
             "linecolor": "white",
             "minorgridcolor": "white",
             "startlinecolor": "#2a3f5f"
            },
            "baxis": {
             "endlinecolor": "#2a3f5f",
             "gridcolor": "white",
             "linecolor": "white",
             "minorgridcolor": "white",
             "startlinecolor": "#2a3f5f"
            },
            "type": "carpet"
           }
          ],
          "choropleth": [
           {
            "colorbar": {
             "outlinewidth": 0,
             "ticks": ""
            },
            "type": "choropleth"
           }
          ],
          "contour": [
           {
            "colorbar": {
             "outlinewidth": 0,
             "ticks": ""
            },
            "colorscale": [
             [
              0,
              "#0d0887"
             ],
             [
              0.1111111111111111,
              "#46039f"
             ],
             [
              0.2222222222222222,
              "#7201a8"
             ],
             [
              0.3333333333333333,
              "#9c179e"
             ],
             [
              0.4444444444444444,
              "#bd3786"
             ],
             [
              0.5555555555555556,
              "#d8576b"
             ],
             [
              0.6666666666666666,
              "#ed7953"
             ],
             [
              0.7777777777777778,
              "#fb9f3a"
             ],
             [
              0.8888888888888888,
              "#fdca26"
             ],
             [
              1,
              "#f0f921"
             ]
            ],
            "type": "contour"
           }
          ],
          "contourcarpet": [
           {
            "colorbar": {
             "outlinewidth": 0,
             "ticks": ""
            },
            "type": "contourcarpet"
           }
          ],
          "heatmap": [
           {
            "colorbar": {
             "outlinewidth": 0,
             "ticks": ""
            },
            "colorscale": [
             [
              0,
              "#0d0887"
             ],
             [
              0.1111111111111111,
              "#46039f"
             ],
             [
              0.2222222222222222,
              "#7201a8"
             ],
             [
              0.3333333333333333,
              "#9c179e"
             ],
             [
              0.4444444444444444,
              "#bd3786"
             ],
             [
              0.5555555555555556,
              "#d8576b"
             ],
             [
              0.6666666666666666,
              "#ed7953"
             ],
             [
              0.7777777777777778,
              "#fb9f3a"
             ],
             [
              0.8888888888888888,
              "#fdca26"
             ],
             [
              1,
              "#f0f921"
             ]
            ],
            "type": "heatmap"
           }
          ],
          "heatmapgl": [
           {
            "colorbar": {
             "outlinewidth": 0,
             "ticks": ""
            },
            "colorscale": [
             [
              0,
              "#0d0887"
             ],
             [
              0.1111111111111111,
              "#46039f"
             ],
             [
              0.2222222222222222,
              "#7201a8"
             ],
             [
              0.3333333333333333,
              "#9c179e"
             ],
             [
              0.4444444444444444,
              "#bd3786"
             ],
             [
              0.5555555555555556,
              "#d8576b"
             ],
             [
              0.6666666666666666,
              "#ed7953"
             ],
             [
              0.7777777777777778,
              "#fb9f3a"
             ],
             [
              0.8888888888888888,
              "#fdca26"
             ],
             [
              1,
              "#f0f921"
             ]
            ],
            "type": "heatmapgl"
           }
          ],
          "histogram": [
           {
            "marker": {
             "colorbar": {
              "outlinewidth": 0,
              "ticks": ""
             }
            },
            "type": "histogram"
           }
          ],
          "histogram2d": [
           {
            "colorbar": {
             "outlinewidth": 0,
             "ticks": ""
            },
            "colorscale": [
             [
              0,
              "#0d0887"
             ],
             [
              0.1111111111111111,
              "#46039f"
             ],
             [
              0.2222222222222222,
              "#7201a8"
             ],
             [
              0.3333333333333333,
              "#9c179e"
             ],
             [
              0.4444444444444444,
              "#bd3786"
             ],
             [
              0.5555555555555556,
              "#d8576b"
             ],
             [
              0.6666666666666666,
              "#ed7953"
             ],
             [
              0.7777777777777778,
              "#fb9f3a"
             ],
             [
              0.8888888888888888,
              "#fdca26"
             ],
             [
              1,
              "#f0f921"
             ]
            ],
            "type": "histogram2d"
           }
          ],
          "histogram2dcontour": [
           {
            "colorbar": {
             "outlinewidth": 0,
             "ticks": ""
            },
            "colorscale": [
             [
              0,
              "#0d0887"
             ],
             [
              0.1111111111111111,
              "#46039f"
             ],
             [
              0.2222222222222222,
              "#7201a8"
             ],
             [
              0.3333333333333333,
              "#9c179e"
             ],
             [
              0.4444444444444444,
              "#bd3786"
             ],
             [
              0.5555555555555556,
              "#d8576b"
             ],
             [
              0.6666666666666666,
              "#ed7953"
             ],
             [
              0.7777777777777778,
              "#fb9f3a"
             ],
             [
              0.8888888888888888,
              "#fdca26"
             ],
             [
              1,
              "#f0f921"
             ]
            ],
            "type": "histogram2dcontour"
           }
          ],
          "mesh3d": [
           {
            "colorbar": {
             "outlinewidth": 0,
             "ticks": ""
            },
            "type": "mesh3d"
           }
          ],
          "parcoords": [
           {
            "line": {
             "colorbar": {
              "outlinewidth": 0,
              "ticks": ""
             }
            },
            "type": "parcoords"
           }
          ],
          "pie": [
           {
            "automargin": true,
            "type": "pie"
           }
          ],
          "scatter": [
           {
            "marker": {
             "colorbar": {
              "outlinewidth": 0,
              "ticks": ""
             }
            },
            "type": "scatter"
           }
          ],
          "scatter3d": [
           {
            "line": {
             "colorbar": {
              "outlinewidth": 0,
              "ticks": ""
             }
            },
            "marker": {
             "colorbar": {
              "outlinewidth": 0,
              "ticks": ""
             }
            },
            "type": "scatter3d"
           }
          ],
          "scattercarpet": [
           {
            "marker": {
             "colorbar": {
              "outlinewidth": 0,
              "ticks": ""
             }
            },
            "type": "scattercarpet"
           }
          ],
          "scattergeo": [
           {
            "marker": {
             "colorbar": {
              "outlinewidth": 0,
              "ticks": ""
             }
            },
            "type": "scattergeo"
           }
          ],
          "scattergl": [
           {
            "marker": {
             "colorbar": {
              "outlinewidth": 0,
              "ticks": ""
             }
            },
            "type": "scattergl"
           }
          ],
          "scattermapbox": [
           {
            "marker": {
             "colorbar": {
              "outlinewidth": 0,
              "ticks": ""
             }
            },
            "type": "scattermapbox"
           }
          ],
          "scatterpolar": [
           {
            "marker": {
             "colorbar": {
              "outlinewidth": 0,
              "ticks": ""
             }
            },
            "type": "scatterpolar"
           }
          ],
          "scatterpolargl": [
           {
            "marker": {
             "colorbar": {
              "outlinewidth": 0,
              "ticks": ""
             }
            },
            "type": "scatterpolargl"
           }
          ],
          "scatterternary": [
           {
            "marker": {
             "colorbar": {
              "outlinewidth": 0,
              "ticks": ""
             }
            },
            "type": "scatterternary"
           }
          ],
          "surface": [
           {
            "colorbar": {
             "outlinewidth": 0,
             "ticks": ""
            },
            "colorscale": [
             [
              0,
              "#0d0887"
             ],
             [
              0.1111111111111111,
              "#46039f"
             ],
             [
              0.2222222222222222,
              "#7201a8"
             ],
             [
              0.3333333333333333,
              "#9c179e"
             ],
             [
              0.4444444444444444,
              "#bd3786"
             ],
             [
              0.5555555555555556,
              "#d8576b"
             ],
             [
              0.6666666666666666,
              "#ed7953"
             ],
             [
              0.7777777777777778,
              "#fb9f3a"
             ],
             [
              0.8888888888888888,
              "#fdca26"
             ],
             [
              1,
              "#f0f921"
             ]
            ],
            "type": "surface"
           }
          ],
          "table": [
           {
            "cells": {
             "fill": {
              "color": "#EBF0F8"
             },
             "line": {
              "color": "white"
             }
            },
            "header": {
             "fill": {
              "color": "#C8D4E3"
             },
             "line": {
              "color": "white"
             }
            },
            "type": "table"
           }
          ]
         },
         "layout": {
          "annotationdefaults": {
           "arrowcolor": "#2a3f5f",
           "arrowhead": 0,
           "arrowwidth": 1
          },
          "coloraxis": {
           "colorbar": {
            "outlinewidth": 0,
            "ticks": ""
           }
          },
          "colorscale": {
           "diverging": [
            [
             0,
             "#8e0152"
            ],
            [
             0.1,
             "#c51b7d"
            ],
            [
             0.2,
             "#de77ae"
            ],
            [
             0.3,
             "#f1b6da"
            ],
            [
             0.4,
             "#fde0ef"
            ],
            [
             0.5,
             "#f7f7f7"
            ],
            [
             0.6,
             "#e6f5d0"
            ],
            [
             0.7,
             "#b8e186"
            ],
            [
             0.8,
             "#7fbc41"
            ],
            [
             0.9,
             "#4d9221"
            ],
            [
             1,
             "#276419"
            ]
           ],
           "sequential": [
            [
             0,
             "#0d0887"
            ],
            [
             0.1111111111111111,
             "#46039f"
            ],
            [
             0.2222222222222222,
             "#7201a8"
            ],
            [
             0.3333333333333333,
             "#9c179e"
            ],
            [
             0.4444444444444444,
             "#bd3786"
            ],
            [
             0.5555555555555556,
             "#d8576b"
            ],
            [
             0.6666666666666666,
             "#ed7953"
            ],
            [
             0.7777777777777778,
             "#fb9f3a"
            ],
            [
             0.8888888888888888,
             "#fdca26"
            ],
            [
             1,
             "#f0f921"
            ]
           ],
           "sequentialminus": [
            [
             0,
             "#0d0887"
            ],
            [
             0.1111111111111111,
             "#46039f"
            ],
            [
             0.2222222222222222,
             "#7201a8"
            ],
            [
             0.3333333333333333,
             "#9c179e"
            ],
            [
             0.4444444444444444,
             "#bd3786"
            ],
            [
             0.5555555555555556,
             "#d8576b"
            ],
            [
             0.6666666666666666,
             "#ed7953"
            ],
            [
             0.7777777777777778,
             "#fb9f3a"
            ],
            [
             0.8888888888888888,
             "#fdca26"
            ],
            [
             1,
             "#f0f921"
            ]
           ]
          },
          "colorway": [
           "#636efa",
           "#EF553B",
           "#00cc96",
           "#ab63fa",
           "#FFA15A",
           "#19d3f3",
           "#FF6692",
           "#B6E880",
           "#FF97FF",
           "#FECB52"
          ],
          "font": {
           "color": "#2a3f5f"
          },
          "geo": {
           "bgcolor": "white",
           "lakecolor": "white",
           "landcolor": "#E5ECF6",
           "showlakes": true,
           "showland": true,
           "subunitcolor": "white"
          },
          "hoverlabel": {
           "align": "left"
          },
          "hovermode": "closest",
          "mapbox": {
           "style": "light"
          },
          "paper_bgcolor": "white",
          "plot_bgcolor": "#E5ECF6",
          "polar": {
           "angularaxis": {
            "gridcolor": "white",
            "linecolor": "white",
            "ticks": ""
           },
           "bgcolor": "#E5ECF6",
           "radialaxis": {
            "gridcolor": "white",
            "linecolor": "white",
            "ticks": ""
           }
          },
          "scene": {
           "xaxis": {
            "backgroundcolor": "#E5ECF6",
            "gridcolor": "white",
            "gridwidth": 2,
            "linecolor": "white",
            "showbackground": true,
            "ticks": "",
            "zerolinecolor": "white"
           },
           "yaxis": {
            "backgroundcolor": "#E5ECF6",
            "gridcolor": "white",
            "gridwidth": 2,
            "linecolor": "white",
            "showbackground": true,
            "ticks": "",
            "zerolinecolor": "white"
           },
           "zaxis": {
            "backgroundcolor": "#E5ECF6",
            "gridcolor": "white",
            "gridwidth": 2,
            "linecolor": "white",
            "showbackground": true,
            "ticks": "",
            "zerolinecolor": "white"
           }
          },
          "shapedefaults": {
           "line": {
            "color": "#2a3f5f"
           }
          },
          "ternary": {
           "aaxis": {
            "gridcolor": "white",
            "linecolor": "white",
            "ticks": ""
           },
           "baxis": {
            "gridcolor": "white",
            "linecolor": "white",
            "ticks": ""
           },
           "bgcolor": "#E5ECF6",
           "caxis": {
            "gridcolor": "white",
            "linecolor": "white",
            "ticks": ""
           }
          },
          "title": {
           "x": 0.05
          },
          "xaxis": {
           "automargin": true,
           "gridcolor": "white",
           "linecolor": "white",
           "ticks": "",
           "title": {
            "standoff": 15
           },
           "zerolinecolor": "white",
           "zerolinewidth": 2
          },
          "yaxis": {
           "automargin": true,
           "gridcolor": "white",
           "linecolor": "white",
           "ticks": "",
           "title": {
            "standoff": 15
           },
           "zerolinecolor": "white",
           "zerolinewidth": 2
          }
         }
        }
       }
      },
      "text/html": [
       "<div>\n",
       "        \n",
       "        \n",
       "            <div id=\"c4540281-b893-4672-9c13-60c8a4f6e4cf\" class=\"plotly-graph-div\" style=\"height:525px; width:100%;\"></div>\n",
       "            <script type=\"text/javascript\">\n",
       "                require([\"plotly\"], function(Plotly) {\n",
       "                    window.PLOTLYENV=window.PLOTLYENV || {};\n",
       "                    \n",
       "                if (document.getElementById(\"c4540281-b893-4672-9c13-60c8a4f6e4cf\")) {\n",
       "                    Plotly.newPlot(\n",
       "                        'c4540281-b893-4672-9c13-60c8a4f6e4cf',\n",
       "                        [{\"dimensions\": [{\"label\": \"Revenues(\\u2191)\", \"range\": [150000000.0, 314576432.62567097], \"values\": [200000000.0, 272677145.824145, 283046490.961312, 300000000.0, 272688364.302847, 291943691.623345, 297258142.873984, 314576432.62567097, 150000000.0, 312759842.146451, 314383374.229299, 200000000.0]}, {\"label\": \"Habitat Availability(\\u2191)\", \"range\": [17000.0, 20288.03223366566], \"values\": [17000.0, 20225.25770987376, 20225.257707264576, 19000.0, 20244.69337365745, 20244.69337108137, 20244.69337365748, 20244.69337365745, 17000.0, 20288.032233665657, 20288.03223366566, 17000.0]}, {\"label\": \"CO2 storage(\\u2191)\", \"range\": [3500000.0, 5337689.24434753], \"values\": [3500000.0, 4449001.4721100135, 4449001.472110001, 4000000.0, 4891634.334371832, 4891634.33437182, 4891634.334371831, 4891634.334371831, 4500000.0, 5337689.24434753, 5337689.24434753, 5000000.0]}, {\"label\": \"Dead wood(\\u2191)\", \"range\": [120000.0, 341394.85949194647], \"values\": [120000.0, 218153.215498235, 218153.2154981315, 150000.0, 279942.64389559143, 279942.6438955129, 279942.6438955913, 279942.64389559143, 170000.0, 341394.85949194647, 341394.85949194647, 200000.0]}, {\"label\": \"Scenario\", \"range\": [0, 11], \"ticktext\": [\"s1\", \"s2\", \"s3\", \"s4\", \"s5\", \"s6\", \"s7\", \"s8\", \"s9\", \"s10\", \"s11\", \"s12\"], \"tickvals\": [0, 1, 2, 3, 4, 5, 6, 7, 8, 9, 10, 11], \"values\": [0, 1, 2, 3, 4, 5, 6, 7, 8, 9, 10, 11]}], \"line\": {\"color\": [0, 1, 2, 3, 4, 5, 6, 7, 8, 9, 10, 11]}, \"type\": \"parcoords\"}],\n",
       "                        {\"paper_bgcolor\": \"white\", \"plot_bgcolor\": \"white\", \"template\": {\"data\": {\"bar\": [{\"error_x\": {\"color\": \"#2a3f5f\"}, \"error_y\": {\"color\": \"#2a3f5f\"}, \"marker\": {\"line\": {\"color\": \"#E5ECF6\", \"width\": 0.5}}, \"type\": \"bar\"}], \"barpolar\": [{\"marker\": {\"line\": {\"color\": \"#E5ECF6\", \"width\": 0.5}}, \"type\": \"barpolar\"}], \"carpet\": [{\"aaxis\": {\"endlinecolor\": \"#2a3f5f\", \"gridcolor\": \"white\", \"linecolor\": \"white\", \"minorgridcolor\": \"white\", \"startlinecolor\": \"#2a3f5f\"}, \"baxis\": {\"endlinecolor\": \"#2a3f5f\", \"gridcolor\": \"white\", \"linecolor\": \"white\", \"minorgridcolor\": \"white\", \"startlinecolor\": \"#2a3f5f\"}, \"type\": \"carpet\"}], \"choropleth\": [{\"colorbar\": {\"outlinewidth\": 0, \"ticks\": \"\"}, \"type\": \"choropleth\"}], \"contour\": [{\"colorbar\": {\"outlinewidth\": 0, \"ticks\": \"\"}, \"colorscale\": [[0.0, \"#0d0887\"], [0.1111111111111111, \"#46039f\"], [0.2222222222222222, \"#7201a8\"], [0.3333333333333333, \"#9c179e\"], [0.4444444444444444, \"#bd3786\"], [0.5555555555555556, \"#d8576b\"], [0.6666666666666666, \"#ed7953\"], [0.7777777777777778, \"#fb9f3a\"], [0.8888888888888888, \"#fdca26\"], [1.0, \"#f0f921\"]], \"type\": \"contour\"}], \"contourcarpet\": [{\"colorbar\": {\"outlinewidth\": 0, \"ticks\": \"\"}, \"type\": \"contourcarpet\"}], \"heatmap\": [{\"colorbar\": {\"outlinewidth\": 0, \"ticks\": \"\"}, \"colorscale\": [[0.0, \"#0d0887\"], [0.1111111111111111, \"#46039f\"], [0.2222222222222222, \"#7201a8\"], [0.3333333333333333, \"#9c179e\"], [0.4444444444444444, \"#bd3786\"], [0.5555555555555556, \"#d8576b\"], [0.6666666666666666, \"#ed7953\"], [0.7777777777777778, \"#fb9f3a\"], [0.8888888888888888, \"#fdca26\"], [1.0, \"#f0f921\"]], \"type\": \"heatmap\"}], \"heatmapgl\": [{\"colorbar\": {\"outlinewidth\": 0, \"ticks\": \"\"}, \"colorscale\": [[0.0, \"#0d0887\"], [0.1111111111111111, \"#46039f\"], [0.2222222222222222, \"#7201a8\"], [0.3333333333333333, \"#9c179e\"], [0.4444444444444444, \"#bd3786\"], [0.5555555555555556, \"#d8576b\"], [0.6666666666666666, \"#ed7953\"], [0.7777777777777778, \"#fb9f3a\"], [0.8888888888888888, \"#fdca26\"], [1.0, \"#f0f921\"]], \"type\": \"heatmapgl\"}], \"histogram\": [{\"marker\": {\"colorbar\": {\"outlinewidth\": 0, \"ticks\": \"\"}}, \"type\": \"histogram\"}], \"histogram2d\": [{\"colorbar\": {\"outlinewidth\": 0, \"ticks\": \"\"}, \"colorscale\": [[0.0, \"#0d0887\"], [0.1111111111111111, \"#46039f\"], [0.2222222222222222, \"#7201a8\"], [0.3333333333333333, \"#9c179e\"], [0.4444444444444444, \"#bd3786\"], [0.5555555555555556, \"#d8576b\"], [0.6666666666666666, \"#ed7953\"], [0.7777777777777778, \"#fb9f3a\"], [0.8888888888888888, \"#fdca26\"], [1.0, \"#f0f921\"]], \"type\": \"histogram2d\"}], \"histogram2dcontour\": [{\"colorbar\": {\"outlinewidth\": 0, \"ticks\": \"\"}, \"colorscale\": [[0.0, \"#0d0887\"], [0.1111111111111111, \"#46039f\"], [0.2222222222222222, \"#7201a8\"], [0.3333333333333333, \"#9c179e\"], [0.4444444444444444, \"#bd3786\"], [0.5555555555555556, \"#d8576b\"], [0.6666666666666666, \"#ed7953\"], [0.7777777777777778, \"#fb9f3a\"], [0.8888888888888888, \"#fdca26\"], [1.0, \"#f0f921\"]], \"type\": \"histogram2dcontour\"}], \"mesh3d\": [{\"colorbar\": {\"outlinewidth\": 0, \"ticks\": \"\"}, \"type\": \"mesh3d\"}], \"parcoords\": [{\"line\": {\"colorbar\": {\"outlinewidth\": 0, \"ticks\": \"\"}}, \"type\": \"parcoords\"}], \"pie\": [{\"automargin\": true, \"type\": \"pie\"}], \"scatter\": [{\"marker\": {\"colorbar\": {\"outlinewidth\": 0, \"ticks\": \"\"}}, \"type\": \"scatter\"}], \"scatter3d\": [{\"line\": {\"colorbar\": {\"outlinewidth\": 0, \"ticks\": \"\"}}, \"marker\": {\"colorbar\": {\"outlinewidth\": 0, \"ticks\": \"\"}}, \"type\": \"scatter3d\"}], \"scattercarpet\": [{\"marker\": {\"colorbar\": {\"outlinewidth\": 0, \"ticks\": \"\"}}, \"type\": \"scattercarpet\"}], \"scattergeo\": [{\"marker\": {\"colorbar\": {\"outlinewidth\": 0, \"ticks\": \"\"}}, \"type\": \"scattergeo\"}], \"scattergl\": [{\"marker\": {\"colorbar\": {\"outlinewidth\": 0, \"ticks\": \"\"}}, \"type\": \"scattergl\"}], \"scattermapbox\": [{\"marker\": {\"colorbar\": {\"outlinewidth\": 0, \"ticks\": \"\"}}, \"type\": \"scattermapbox\"}], \"scatterpolar\": [{\"marker\": {\"colorbar\": {\"outlinewidth\": 0, \"ticks\": \"\"}}, \"type\": \"scatterpolar\"}], \"scatterpolargl\": [{\"marker\": {\"colorbar\": {\"outlinewidth\": 0, \"ticks\": \"\"}}, \"type\": \"scatterpolargl\"}], \"scatterternary\": [{\"marker\": {\"colorbar\": {\"outlinewidth\": 0, \"ticks\": \"\"}}, \"type\": \"scatterternary\"}], \"surface\": [{\"colorbar\": {\"outlinewidth\": 0, \"ticks\": \"\"}, \"colorscale\": [[0.0, \"#0d0887\"], [0.1111111111111111, \"#46039f\"], [0.2222222222222222, \"#7201a8\"], [0.3333333333333333, \"#9c179e\"], [0.4444444444444444, \"#bd3786\"], [0.5555555555555556, \"#d8576b\"], [0.6666666666666666, \"#ed7953\"], [0.7777777777777778, \"#fb9f3a\"], [0.8888888888888888, \"#fdca26\"], [1.0, \"#f0f921\"]], \"type\": \"surface\"}], \"table\": [{\"cells\": {\"fill\": {\"color\": \"#EBF0F8\"}, \"line\": {\"color\": \"white\"}}, \"header\": {\"fill\": {\"color\": \"#C8D4E3\"}, \"line\": {\"color\": \"white\"}}, \"type\": \"table\"}]}, \"layout\": {\"annotationdefaults\": {\"arrowcolor\": \"#2a3f5f\", \"arrowhead\": 0, \"arrowwidth\": 1}, \"coloraxis\": {\"colorbar\": {\"outlinewidth\": 0, \"ticks\": \"\"}}, \"colorscale\": {\"diverging\": [[0, \"#8e0152\"], [0.1, \"#c51b7d\"], [0.2, \"#de77ae\"], [0.3, \"#f1b6da\"], [0.4, \"#fde0ef\"], [0.5, \"#f7f7f7\"], [0.6, \"#e6f5d0\"], [0.7, \"#b8e186\"], [0.8, \"#7fbc41\"], [0.9, \"#4d9221\"], [1, \"#276419\"]], \"sequential\": [[0.0, \"#0d0887\"], [0.1111111111111111, \"#46039f\"], [0.2222222222222222, \"#7201a8\"], [0.3333333333333333, \"#9c179e\"], [0.4444444444444444, \"#bd3786\"], [0.5555555555555556, \"#d8576b\"], [0.6666666666666666, \"#ed7953\"], [0.7777777777777778, \"#fb9f3a\"], [0.8888888888888888, \"#fdca26\"], [1.0, \"#f0f921\"]], \"sequentialminus\": [[0.0, \"#0d0887\"], [0.1111111111111111, \"#46039f\"], [0.2222222222222222, \"#7201a8\"], [0.3333333333333333, \"#9c179e\"], [0.4444444444444444, \"#bd3786\"], [0.5555555555555556, \"#d8576b\"], [0.6666666666666666, \"#ed7953\"], [0.7777777777777778, \"#fb9f3a\"], [0.8888888888888888, \"#fdca26\"], [1.0, \"#f0f921\"]]}, \"colorway\": [\"#636efa\", \"#EF553B\", \"#00cc96\", \"#ab63fa\", \"#FFA15A\", \"#19d3f3\", \"#FF6692\", \"#B6E880\", \"#FF97FF\", \"#FECB52\"], \"font\": {\"color\": \"#2a3f5f\"}, \"geo\": {\"bgcolor\": \"white\", \"lakecolor\": \"white\", \"landcolor\": \"#E5ECF6\", \"showlakes\": true, \"showland\": true, \"subunitcolor\": \"white\"}, \"hoverlabel\": {\"align\": \"left\"}, \"hovermode\": \"closest\", \"mapbox\": {\"style\": \"light\"}, \"paper_bgcolor\": \"white\", \"plot_bgcolor\": \"#E5ECF6\", \"polar\": {\"angularaxis\": {\"gridcolor\": \"white\", \"linecolor\": \"white\", \"ticks\": \"\"}, \"bgcolor\": \"#E5ECF6\", \"radialaxis\": {\"gridcolor\": \"white\", \"linecolor\": \"white\", \"ticks\": \"\"}}, \"scene\": {\"xaxis\": {\"backgroundcolor\": \"#E5ECF6\", \"gridcolor\": \"white\", \"gridwidth\": 2, \"linecolor\": \"white\", \"showbackground\": true, \"ticks\": \"\", \"zerolinecolor\": \"white\"}, \"yaxis\": {\"backgroundcolor\": \"#E5ECF6\", \"gridcolor\": \"white\", \"gridwidth\": 2, \"linecolor\": \"white\", \"showbackground\": true, \"ticks\": \"\", \"zerolinecolor\": \"white\"}, \"zaxis\": {\"backgroundcolor\": \"#E5ECF6\", \"gridcolor\": \"white\", \"gridwidth\": 2, \"linecolor\": \"white\", \"showbackground\": true, \"ticks\": \"\", \"zerolinecolor\": \"white\"}}, \"shapedefaults\": {\"line\": {\"color\": \"#2a3f5f\"}}, \"ternary\": {\"aaxis\": {\"gridcolor\": \"white\", \"linecolor\": \"white\", \"ticks\": \"\"}, \"baxis\": {\"gridcolor\": \"white\", \"linecolor\": \"white\", \"ticks\": \"\"}, \"bgcolor\": \"#E5ECF6\", \"caxis\": {\"gridcolor\": \"white\", \"linecolor\": \"white\", \"ticks\": \"\"}}, \"title\": {\"x\": 0.05}, \"xaxis\": {\"automargin\": true, \"gridcolor\": \"white\", \"linecolor\": \"white\", \"ticks\": \"\", \"title\": {\"standoff\": 15}, \"zerolinecolor\": \"white\", \"zerolinewidth\": 2}, \"yaxis\": {\"automargin\": true, \"gridcolor\": \"white\", \"linecolor\": \"white\", \"ticks\": \"\", \"title\": {\"standoff\": 15}, \"zerolinecolor\": \"white\", \"zerolinewidth\": 2}}}},\n",
       "                        {\"responsive\": true}\n",
       "                    ).then(function(){\n",
       "                            \n",
       "var gd = document.getElementById('c4540281-b893-4672-9c13-60c8a4f6e4cf');\n",
       "var x = new MutationObserver(function (mutations, observer) {{\n",
       "        var display = window.getComputedStyle(gd).display;\n",
       "        if (!display || display === 'none') {{\n",
       "            console.log([gd, 'removed!']);\n",
       "            Plotly.purge(gd);\n",
       "            observer.disconnect();\n",
       "        }}\n",
       "}});\n",
       "\n",
       "// Listen for the removal of the full notebook cells\n",
       "var notebookContainer = gd.closest('#notebook-container');\n",
       "if (notebookContainer) {{\n",
       "    x.observe(notebookContainer, {childList: true});\n",
       "}}\n",
       "\n",
       "// Listen for the clearing of the current output cell\n",
       "var outputEl = gd.closest('.output');\n",
       "if (outputEl) {{\n",
       "    x.observe(outputEl, {childList: true});\n",
       "}}\n",
       "\n",
       "                        })\n",
       "                };\n",
       "                });\n",
       "            </script>\n",
       "        </div>"
      ]
     },
     "metadata": {},
     "output_type": "display_data"
    }
   ],
   "source": [
    "# Describing the objectives in all scenarios\n",
    "\"\"\"\n",
    "Each line describes objective values in a scenario \n",
    "\"\"\"\n",
    "import plotly.graph_objects as go\n",
    "\n",
    "df = dfi\n",
    "\n",
    "fig = go.Figure(data=\n",
    "    go.Parcoords(\n",
    "        line = dict(color = df['Scenario'],\n",
    "                   #colorscale = [[0.2,'black'],[0.4,'purple'],[0.6,'red'],[.8,'gold']]\n",
    "                   ),\n",
    "        dimensions = list([\n",
    "            dict(range = [df['Rev'].min(),df['Rev'].max()],\n",
    "                #constraintrange = [4,8],\n",
    "                label = 'Revenues(↑)', values = df['Rev']),\n",
    "            dict(range = [df['HA'].min(),df['HA'].max()],\n",
    "                label = 'Habitat Availability(↑)', values = df['HA']),\n",
    "            dict(range = [df['Carb'].min(),df['Carb'].max()],\n",
    "                label = 'CO2 storage(↑)', values = df['Carb']),\n",
    "            dict(range = [df['DW'].min(),df['DW'].max()],\n",
    "                label = 'Dead wood(↑)', values = df['DW']),\n",
    "            dict(range = [0,11],\n",
    "                tickvals = [0,1,2,3,4,5,6,7,8,9,10,11],\n",
    "                ticktext = ['s1','s2','s3','s4','s5','s6','s7','s8','s9','s10','s11','s12'],\n",
    "                label = 'Scenario', values = df['Scenario'])\n",
    "        ])\n",
    "    )\n",
    ")\n",
    "\n",
    "fig.update_layout(\n",
    "    plot_bgcolor = 'white',\n",
    "    paper_bgcolor = 'white'\n",
    ")\n",
    "\n",
    "fig.show()"
   ]
  },
  {
   "cell_type": "markdown",
   "metadata": {},
   "source": [
    "## 5. Checking the satisfaction of the solution with the DM\n",
    "\n",
    "If the DM is satisfied with the current solution, it would be the final solutions, other wise The DM can\n",
    "\n",
    "    1) modify the the reference points (some or all aspiration levels) and ask for, first, a new preference estimation \n",
    "    2) modify the the reference points (some or all aspiration levels) and ask for a new solution"
   ]
  }
 ],
 "metadata": {
  "kernelspec": {
   "display_name": "Python 3",
   "language": "python",
   "name": "python3"
  },
  "language_info": {
   "codemirror_mode": {
    "name": "ipython",
    "version": 3
   },
   "file_extension": ".py",
   "mimetype": "text/x-python",
   "name": "python",
   "nbconvert_exporter": "python",
   "pygments_lexer": "ipython3",
   "version": "3.7.6"
  }
 },
 "nbformat": 4,
 "nbformat_minor": 4
}
