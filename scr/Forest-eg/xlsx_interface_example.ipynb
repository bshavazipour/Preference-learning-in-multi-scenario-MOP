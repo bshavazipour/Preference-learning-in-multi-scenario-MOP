{
 "cells": [
  {
   "cell_type": "markdown",
   "metadata": {},
   "source": [
    "Example *.xlsx* files are located in *test* subfolder. \n",
    "Files started with underscore are input for this demonstration; the other files are produced using the module.\n",
    "\n",
    "Both preference information and solutions are represented as numpy arrays: (nr. of scenarios) x (nr. of criteria)"
   ]
  },
  {
   "cell_type": "code",
   "execution_count": 8,
   "metadata": {},
   "outputs": [],
   "source": [
    "import xlsx_interface as xlif\n",
    "import numpy as np"
   ]
  },
  {
   "cell_type": "markdown",
   "metadata": {},
   "source": [
    "## 1. Create new interaction based on problem information file\n",
    "The initialization (constant) file is *_init_file.xlsx*, the file for the first iteration of the new interactive process is *iter_0.xlsx*"
   ]
  },
  {
   "cell_type": "code",
   "execution_count": 2,
   "metadata": {},
   "outputs": [],
   "source": [
    "xlif.new_interaction(\"test/_init_file.xlsx\",\"test/iter_0.xlsx\")"
   ]
  },
  {
   "cell_type": "markdown",
   "metadata": {},
   "source": [
    "## 2. After the DM set partial preferences, get them from the file\n",
    "\n",
    "The DM sets partial preferences by editing *iter_0.xlsx* and saves them as *_iter_0_prefs.xlsx*.\n",
    "Any non-empty cell with font color other than black is considered DM's input.\n",
    "The DM can use different colors, e.g. blue for input in previous iterations, green for new input, etc."
   ]
  },
  {
   "cell_type": "code",
   "execution_count": 5,
   "metadata": {},
   "outputs": [
    {
     "name": "stdout",
     "output_type": "stream",
     "text": [
      "[[6.e+07 3.e+04 4.e+06 1.e+05]\n",
      " [5.e+07 2.e+04 3.e+06 2.e+05]\n",
      " [1.e+06    nan    nan    nan]\n",
      " [   nan    nan    nan    nan]\n",
      " [   nan    nan    nan    nan]\n",
      " [   nan    nan    nan    nan]\n",
      " [   nan    nan    nan    nan]\n",
      " [   nan    nan    nan    nan]\n",
      " [   nan    nan    nan    nan]\n",
      " [   nan    nan    nan    nan]\n",
      " [   nan    nan    nan    nan]\n",
      " [   nan    nan    nan    nan]]\n"
     ]
    }
   ],
   "source": [
    "pref_matrix = xlif.get_preferences(\"test/_iter_0_prefs.xlsx\")\n",
    "print(pref_matrix)"
   ]
  },
  {
   "cell_type": "markdown",
   "metadata": {},
   "source": [
    "# 3. After calculations, produce an updated file for the next iteration\n",
    "After missing preferences are estimated and optionally, a solution is calculated based on them, this information is saved to a new file *iter_1.xlsx*. The DM will edit preferences in this file and save it as *iter_1_prefs.xlsx*.\n",
    "\n",
    "Only those aspiration levels are updated in *iter_1.xlsx*, which were not set by the DM in different color in *iter_0_prefs.xlsx*. All non-empty colored cells are same as in *iter_0_prefs.xlsx*, and are changed to blue for avoiding mess."
   ]
  },
  {
   "cell_type": "code",
   "execution_count": 9,
   "metadata": {},
   "outputs": [],
   "source": [
    "    # Example estimation of missing aspiration levels as 100K   \n",
    "    np.nan_to_num(pref_matrix,copy=False,nan=100000)\n",
    "    xlif.next_iteration(\n",
    "        \"test/_iter_0_prefs.xlsx\", # DM's preferences in previous iteration \n",
    "        \"test/iter_1.xlsx\", # Updated file for starting the new iteration\n",
    "        pref_matrix, # Estimated preference matrix\n",
    "        sol_array=np.full((12,4),200000) # Example solution as 200K \n",
    "        )"
   ]
  }
 ],
 "metadata": {
  "kernelspec": {
   "display_name": "Python 3",
   "language": "python",
   "name": "python3"
  },
  "language_info": {
   "codemirror_mode": {
    "name": "ipython",
    "version": 3
   },
   "file_extension": ".py",
   "mimetype": "text/x-python",
   "name": "python",
   "nbconvert_exporter": "python",
   "pygments_lexer": "ipython3",
   "version": "3.8.6"
  }
 },
 "nbformat": 4,
 "nbformat_minor": 4
}
